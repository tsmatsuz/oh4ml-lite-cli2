{
 "cells": [
  {
   "cell_type": "markdown",
   "id": "20d876d3",
   "metadata": {},
   "source": [
    "# AML CLI v2 と YAML による学習\n",
    "\n",
    "[00_LoadData.ipynb](./00_LoadData.ipynb) を実行して、あらかじめデータセットの登録をおこなってください。\n",
    "\n",
    "> Note : データセットのアップロード・登録を CLI v2 と YAML で記述できます。"
   ]
  },
  {
   "cell_type": "markdown",
   "id": "4b0b681a",
   "metadata": {},
   "source": [
    "## Azure へのログイン"
   ]
  },
  {
   "cell_type": "code",
   "execution_count": null,
   "id": "b040f3a8",
   "metadata": {},
   "outputs": [],
   "source": [
    "!az login"
   ]
  },
  {
   "cell_type": "code",
   "execution_count": null,
   "id": "d8dda515",
   "metadata": {},
   "outputs": [],
   "source": [
    "!az account set -s {AZURE_SUBSCRIPTION_ID}"
   ]
  },
  {
   "cell_type": "markdown",
   "id": "9ff0a5a1",
   "metadata": {},
   "source": [
    "## AML ワークスペースの環境設定"
   ]
  },
  {
   "cell_type": "code",
   "execution_count": 1,
   "id": "a4deeff2",
   "metadata": {},
   "outputs": [],
   "source": [
    "my_resource_group = \"{AML-RESOURCE-GROUP-NAME}\"\n",
    "my_workspace = \"{AML-WORSPACE-NAME}\""
   ]
  },
  {
   "cell_type": "markdown",
   "id": "5f434816",
   "metadata": {},
   "source": [
    "## [Optional] AML コンピュート (クラスター) の作成\n",
    "\n",
    "demo-cpucluster1 の名前の AML compute cluster がない場合には、下記を実行します。<br>\n",
    "(既に存在する場合には実行不要です。)"
   ]
  },
  {
   "cell_type": "code",
   "execution_count": 2,
   "id": "0ef7d16a",
   "metadata": {},
   "outputs": [
    {
     "name": "stdout",
     "output_type": "stream",
     "text": [
      "\u001b[36mCommand group 'ml compute' is in preview and under development. Reference and support levels: https://aka.ms/CLI_refstatus\u001b[0m\n",
      "{\n",
      "  \"id\": \"/subscriptions/b3ae1c15-4fef-4362-8c3a-5d804cdeb18d/resourceGroups/AML-rg/providers/Microsoft.MachineLearningServices/workspaces/ws01/computes/demo-cpucluster1\",\n",
      "  \"idle_time_before_scale_down\": 120,\n",
      "  \"location\": \"eastus\",\n",
      "  \"max_instances\": 1,\n",
      "  \"min_instances\": 0,\n",
      "  \"name\": \"demo-cpucluster1\",\n",
      "  \"network_settings\": {},\n",
      "  \"provisioning_state\": \"Succeeded\",\n",
      "  \"resourceGroup\": \"AML-rg\",\n",
      "  \"size\": \"STANDARD_D2_V2\",\n",
      "  \"ssh_public_access_enabled\": true,\n",
      "  \"tier\": \"dedicated\",\n",
      "  \"type\": \"amlcompute\"\n",
      "}\n",
      "\u001b[0m"
     ]
    }
   ],
   "source": [
    "!az ml compute create --name demo-cpucluster1 \\\n",
    "  --resource-group $my_resource_group \\\n",
    "  --workspace-name $my_workspace \\\n",
    "  --type amlcompute \\\n",
    "  --min-instances 0 \\\n",
    "  --max-instances 1 \\\n",
    "  --size Standard_D2_v2"
   ]
  },
  {
   "cell_type": "markdown",
   "id": "03d7180d",
   "metadata": {},
   "source": [
    "## [Optional] Environment (環境) の作成\n",
    "\n",
    "arima-env の Environment (環境) を AML 上に作成していない場合には下記を実行します。<br>\n",
    "(既に作成済の場合は不要です。)"
   ]
  },
  {
   "cell_type": "code",
   "execution_count": 3,
   "id": "dbaa47fb",
   "metadata": {},
   "outputs": [
    {
     "name": "stdout",
     "output_type": "stream",
     "text": [
      "Writing arima-env-config.yml\n"
     ]
    }
   ],
   "source": [
    "%%writefile arima-env-config.yml\n",
    "$schema: https://azuremlschemas.azureedge.net/latest/environment.schema.json\n",
    "name: arima-env\n",
    "image: mcr.microsoft.com/azureml/openmpi3.1.2-ubuntu18.04\n",
    "conda_file: scripts/arima-env.yml\n",
    "description: This is example"
   ]
  },
  {
   "cell_type": "code",
   "execution_count": 4,
   "id": "7dc1df19",
   "metadata": {},
   "outputs": [
    {
     "name": "stdout",
     "output_type": "stream",
     "text": [
      "\u001b[36mCommand group 'ml environment' is in preview and under development. Reference and support levels: https://aka.ms/CLI_refstatus\u001b[0m\n",
      "{\n",
      "  \"conda_file\": {\n",
      "    \"channels\": [\n",
      "      \"anaconda\",\n",
      "      \"conda-forge\"\n",
      "    ],\n",
      "    \"dependencies\": [\n",
      "      \"python=3.6.9\",\n",
      "      {\n",
      "        \"pip\": [\n",
      "          \"azureml-defaults\",\n",
      "          \"statsmodels==0.12.2\",\n",
      "          \"scipy\",\n",
      "          \"scikit-learn\",\n",
      "          \"joblib\",\n",
      "          \"numpy\",\n",
      "          \"pandas\",\n",
      "          \"matplotlib\",\n",
      "          \"seaborn\",\n",
      "          \"numpy\"\n",
      "        ]\n",
      "      }\n",
      "    ],\n",
      "    \"name\": \"arima-env\"\n",
      "  },\n",
      "  \"creation_context\": {\n",
      "    \"created_at\": \"2022-04-15T07:00:29.136187+00:00\",\n",
      "    \"created_by\": \"Tsuyoshi Matsuzaki\",\n",
      "    \"created_by_type\": \"User\",\n",
      "    \"last_modified_at\": \"2022-04-15T07:00:29.136187+00:00\",\n",
      "    \"last_modified_by\": \"Tsuyoshi Matsuzaki\",\n",
      "    \"last_modified_by_type\": \"User\"\n",
      "  },\n",
      "  \"description\": \"This is example\",\n",
      "  \"id\": \"azureml:/subscriptions/b3ae1c15-4fef-4362-8c3a-5d804cdeb18d/resourceGroups/AML-rg/providers/Microsoft.MachineLearningServices/workspaces/ws01/environments/arima-env/versions/1\",\n",
      "  \"image\": \"mcr.microsoft.com/azureml/openmpi3.1.2-ubuntu18.04\",\n",
      "  \"name\": \"arima-env\",\n",
      "  \"os_type\": \"linux\",\n",
      "  \"resourceGroup\": \"AML-rg\",\n",
      "  \"tags\": {},\n",
      "  \"version\": \"1\"\n",
      "}\n",
      "\u001b[0m"
     ]
    }
   ],
   "source": [
    "!az ml environment create --file arima-env-config.yml \\\n",
    "  --resource-group $my_resource_group \\\n",
    "  --workspace-name $my_workspace"
   ]
  },
  {
   "cell_type": "markdown",
   "id": "53d04e02",
   "metadata": {},
   "source": [
    "## 学習実行"
   ]
  },
  {
   "cell_type": "code",
   "execution_count": 8,
   "id": "191a14dc",
   "metadata": {},
   "outputs": [
    {
     "name": "stdout",
     "output_type": "stream",
     "text": [
      "Writing train-job-config.yml\n"
     ]
    }
   ],
   "source": [
    "%%writefile train-job-config.yml\n",
    "$schema: https://azuremlschemas.azureedge.net/latest/commandJob.schema.json\n",
    "code: scripts\n",
    "command: >-\n",
    "  python train.py\n",
    "  --data_file ${{inputs.transaction_ts2013}}\n",
    "inputs:\n",
    "  transaction_ts2013:\n",
    "    type: uri_file\n",
    "    path: azureml:transaction_ts2013:1\n",
    "environment: azureml:arima-env:1\n",
    "compute: azureml:demo-cpucluster1\n",
    "display_name: arima-mlops-remote-cli\n",
    "experiment_name: arima-mlops-remote-cli\n",
    "description: Train demo"
   ]
  },
  {
   "cell_type": "code",
   "execution_count": 9,
   "id": "ac58385a",
   "metadata": {},
   "outputs": [
    {
     "name": "stdout",
     "output_type": "stream",
     "text": [
      "\u001b[36mCommand group 'ml job' is in preview and under development. Reference and support levels: https://aka.ms/CLI_refstatus\u001b[0m\n",
      "\u001b[32mUploading scripts (0.01 MBs): 100%|█████| 5012/5012 [00:00<00:00, 110083.38it/s]\u001b[0m\n",
      "\u001b[39m\n",
      "\n",
      "{\n",
      "  \"code\": \"/subscriptions/b3ae1c15-4fef-4362-8c3a-5d804cdeb18d/resourceGroups/AML-rg/providers/Microsoft.MachineLearningServices/workspaces/ws01/codes/f2c8f4d6-5162-43e0-ae4b-794fd0bd343f/versions/1\",\n",
      "  \"command\": \"python train.py --data_file ${{inputs.transaction_ts2013}}\",\n",
      "  \"compute\": \"azureml:demo-cpucluster1\",\n",
      "  \"creation_context\": {\n",
      "    \"created_at\": \"2022-04-15T07:54:22.689072+00:00\",\n",
      "    \"created_by\": \"Tsuyoshi Matsuzaki\",\n",
      "    \"created_by_type\": \"User\"\n",
      "  },\n",
      "  \"description\": \"Train demo\",\n",
      "  \"display_name\": \"arima-mlops-remote-cli\",\n",
      "  \"environment\": \"azureml:arima-env:1\",\n",
      "  \"environment_variables\": {},\n",
      "  \"experiment_name\": \"arima-mlops-remote-cli\",\n",
      "  \"id\": \"azureml:/subscriptions/b3ae1c15-4fef-4362-8c3a-5d804cdeb18d/resourceGroups/AML-rg/providers/Microsoft.MachineLearningServices/workspaces/ws01/jobs/quirky_picture_tkm46pgxmx\",\n",
      "  \"inputs\": {\n",
      "    \"transaction_ts2013\": {\n",
      "      \"mode\": \"ro_mount\",\n",
      "      \"path\": \"azureml:transaction_ts2013:1\",\n",
      "      \"type\": \"uri_file\"\n",
      "    }\n",
      "  },\n",
      "  \"name\": \"quirky_picture_tkm46pgxmx\",\n",
      "  \"outputs\": {\n",
      "    \"default\": {\n",
      "      \"mode\": \"rw_mount\",\n",
      "      \"path\": \"azureml://datastores/workspaceartifactstore/ExperimentRun/dcid.quirky_picture_tkm46pgxmx\",\n",
      "      \"type\": \"uri_folder\"\n",
      "    }\n",
      "  },\n",
      "  \"parameters\": {},\n",
      "  \"properties\": {\n",
      "    \"ContentSnapshotId\": \"a0cc403e-2bdd-4c04-aced-8f63c9b59be2\",\n",
      "    \"_azureml.ComputeTargetType\": \"amlctrain\",\n",
      "    \"azureml.git.dirty\": \"True\",\n",
      "    \"mlflow.source.git.branch\": \"master\",\n",
      "    \"mlflow.source.git.commit\": \"c1b27d3f4f4b2df4f05e975b7e4367fbc08fd4f0\",\n",
      "    \"mlflow.source.git.repoURL\": \"https://github.com/tsmatsuz/oh4ml-lite-cli2\"\n",
      "  },\n",
      "  \"resourceGroup\": \"AML-rg\",\n",
      "  \"resources\": {\n",
      "    \"instance_count\": 1,\n",
      "    \"properties\": {}\n",
      "  },\n",
      "  \"services\": {\n",
      "    \"Studio\": {\n",
      "      \"endpoint\": \"https://ml.azure.com/runs/quirky_picture_tkm46pgxmx?wsid=/subscriptions/b3ae1c15-4fef-4362-8c3a-5d804cdeb18d/resourcegroups/AML-rg/workspaces/ws01&tid=72f988bf-86f1-41af-91ab-2d7cd011db47\",\n",
      "      \"job_service_type\": \"Studio\"\n",
      "    },\n",
      "    \"Tracking\": {\n",
      "      \"endpoint\": \"azureml://eastus.api.azureml.ms/mlflow/v1.0/subscriptions/b3ae1c15-4fef-4362-8c3a-5d804cdeb18d/resourceGroups/AML-rg/providers/Microsoft.MachineLearningServices/workspaces/ws01?\",\n",
      "      \"job_service_type\": \"Tracking\"\n",
      "    }\n",
      "  },\n",
      "  \"status\": \"Starting\",\n",
      "  \"tags\": {},\n",
      "  \"type\": \"command\"\n",
      "}\n",
      "\u001b[0m"
     ]
    }
   ],
   "source": [
    "!az ml job create --file train-job-config.yml \\\n",
    "  --resource-group $my_resource_group \\\n",
    "  --workspace-name $my_workspace"
   ]
  },
  {
   "cell_type": "markdown",
   "id": "862418b2",
   "metadata": {},
   "source": [
    "## モデル登録"
   ]
  },
  {
   "cell_type": "markdown",
   "id": "6b034a41",
   "metadata": {},
   "source": [
    "下記コマンドで、モデルをローカルにダウンロードし、作成されたモデルの確認・評価などをおこなえます。<br>\n",
    "(```job_name``` には、上記で出力されている ```name``` を設定します。)"
   ]
  },
  {
   "cell_type": "code",
   "execution_count": 10,
   "id": "e15f01fa",
   "metadata": {},
   "outputs": [],
   "source": [
    "job_name = \"quirky_picture_tkm46pgxmx\""
   ]
  },
  {
   "cell_type": "code",
   "execution_count": 11,
   "id": "3672de5b",
   "metadata": {},
   "outputs": [
    {
     "name": "stdout",
     "output_type": "stream",
     "text": [
      "\u001b[36mCommand group 'ml job' is in preview and under development. Reference and support levels: https://aka.ms/CLI_refstatus\u001b[0m\n",
      "Downloading artifact azureml://datastores/workspaceartifactstore/ExperimentRun/dcid.quirky_picture_tkm46pgxmx to /home/tsmatsuz/oh4ml-lite-cli2/artifacts\n",
      "\u001b[0m"
     ]
    }
   ],
   "source": [
    "!az ml job download --name $job_name \\\n",
    "  --resource-group $my_resource_group \\\n",
    "  --workspace-name $my_workspace"
   ]
  },
  {
   "cell_type": "markdown",
   "id": "bf3180c9",
   "metadata": {},
   "source": [
    "確認後、下記コマンドでモデルを AML に登録します。"
   ]
  },
  {
   "cell_type": "code",
   "execution_count": 15,
   "id": "9771ae3d",
   "metadata": {},
   "outputs": [
    {
     "name": "stdout",
     "output_type": "stream",
     "text": [
      "\u001b[36mCommand group 'ml model' is in preview and under development. Reference and support levels: https://aka.ms/CLI_refstatus\u001b[0m\n",
      "{\n",
      "  \"creation_context\": {\n",
      "    \"created_at\": \"2022-04-15T08:47:31.745622+00:00\",\n",
      "    \"created_by\": \"Tsuyoshi Matsuzaki\",\n",
      "    \"created_by_type\": \"User\",\n",
      "    \"last_modified_at\": \"2022-04-15T08:47:31.745622+00:00\",\n",
      "    \"last_modified_by\": \"Tsuyoshi Matsuzaki\",\n",
      "    \"last_modified_by_type\": \"User\"\n",
      "  },\n",
      "  \"id\": \"azureml:/subscriptions/b3ae1c15-4fef-4362-8c3a-5d804cdeb18d/resourceGroups/AML-rg/providers/Microsoft.MachineLearningServices/workspaces/ws01/models/arima_model/versions/1\",\n",
      "  \"name\": \"arima_model\",\n",
      "  \"path\": \"azureml://subscriptions/b3ae1c15-4fef-4362-8c3a-5d804cdeb18d/resourceGroups/AML-rg/workspaces/ws01/datastores/workspaceblobstore/paths/LocalUpload/560e2b2e876016b60c2dd1068aa0b7dd/arima_model.pkl\",\n",
      "  \"properties\": {},\n",
      "  \"resourceGroup\": \"AML-rg\",\n",
      "  \"tags\": {},\n",
      "  \"type\": \"custom_model\",\n",
      "  \"version\": \"1\"\n",
      "}\n",
      "\u001b[0m"
     ]
    }
   ],
   "source": [
    "!az ml model create --name arima_model \\\n",
    "  --version 1 \\\n",
    "  --path ./artifacts/outputs/arima_model.pkl \\\n",
    "  --resource-group $my_resource_group \\\n",
    "  --workspace-name $my_workspace"
   ]
  },
  {
   "cell_type": "code",
   "execution_count": null,
   "id": "5a319116",
   "metadata": {},
   "outputs": [],
   "source": []
  }
 ],
 "metadata": {
  "kernelspec": {
   "display_name": "Python 3",
   "language": "python",
   "name": "python3"
  },
  "language_info": {
   "codemirror_mode": {
    "name": "ipython",
    "version": 3
   },
   "file_extension": ".py",
   "mimetype": "text/x-python",
   "name": "python",
   "nbconvert_exporter": "python",
   "pygments_lexer": "ipython3",
   "version": "3.6.9"
  }
 },
 "nbformat": 4,
 "nbformat_minor": 5
}
