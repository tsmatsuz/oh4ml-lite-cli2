{
 "cells": [
  {
   "cell_type": "markdown",
   "id": "20d876d3",
   "metadata": {},
   "source": [
    "# AML CLI v2 と YAML による ML Pipeline 実行\n",
    "\n",
    "[00_LoadData.ipynb](./00_LoadData.ipynb) を実行して、あらかじめデータセットの登録をおこなってください。\n",
    "\n",
    "> Note : データセットのアップロード・登録を CLI v2 と YAML で記述できます。"
   ]
  },
  {
   "cell_type": "markdown",
   "id": "4b0b681a",
   "metadata": {},
   "source": [
    "## Azure へのログイン"
   ]
  },
  {
   "cell_type": "code",
   "execution_count": null,
   "id": "b45619ba",
   "metadata": {},
   "outputs": [],
   "source": [
    "!az login"
   ]
  },
  {
   "cell_type": "code",
   "execution_count": 3,
   "id": "690abdd1",
   "metadata": {},
   "outputs": [],
   "source": [
    "!az account set -s {AZURE_SUBSCRIPTION_ID}"
   ]
  },
  {
   "cell_type": "markdown",
   "id": "9ff0a5a1",
   "metadata": {},
   "source": [
    "## AML ワークスペースの環境設定"
   ]
  },
  {
   "cell_type": "code",
   "execution_count": 1,
   "id": "8b83c512",
   "metadata": {},
   "outputs": [],
   "source": [
    "my_resource_group = \"{AML-RESOURCE-GROUP-NAME}\"\n",
    "my_workspace = \"{AML-WORSPACE-NAME}\""
   ]
  },
  {
   "cell_type": "markdown",
   "id": "5f434816",
   "metadata": {},
   "source": [
    "## [Optional] AML コンピュート (クラスター) の作成\n",
    "\n",
    "demo-cpucluster1 の名前の AML compute cluster がない場合には、下記を実行<br>\n",
    "(既に存在する場合には実行不要)"
   ]
  },
  {
   "cell_type": "code",
   "execution_count": 5,
   "id": "0ef7d16a",
   "metadata": {},
   "outputs": [
    {
     "name": "stdout",
     "output_type": "stream",
     "text": [
      "\u001b[36mCommand group 'ml compute' is in preview and under development. Reference and support levels: https://aka.ms/CLI_refstatus\u001b[0m\n",
      "{\n",
      "  \"id\": \"/subscriptions/b3ae1c15-4fef-4362-8c3a-5d804cdeb18d/resourceGroups/TEST20220331-AML/providers/Microsoft.MachineLearningServices/workspaces/ws01/computes/demo-cpucluster1\",\n",
      "  \"idle_time_before_scale_down\": 120,\n",
      "  \"location\": \"eastus\",\n",
      "  \"max_instances\": 1,\n",
      "  \"min_instances\": 0,\n",
      "  \"name\": \"demo-cpucluster1\",\n",
      "  \"network_settings\": {},\n",
      "  \"provisioning_state\": \"Succeeded\",\n",
      "  \"resourceGroup\": \"TEST20220331-AML\",\n",
      "  \"size\": \"STANDARD_D2_V2\",\n",
      "  \"ssh_public_access_enabled\": true,\n",
      "  \"tier\": \"dedicated\",\n",
      "  \"type\": \"amlcompute\"\n",
      "}\n",
      "\u001b[0m"
     ]
    }
   ],
   "source": [
    "!az ml compute create --name demo-cpucluster1 \\\n",
    "  --resource-group $my_resource_group \\\n",
    "  --workspace-name $my_workspace \\\n",
    "  --type amlcompute \\\n",
    "  --min-instances 0 \\\n",
    "  --max-instances 1 \\\n",
    "  --size Standard_D2_v2"
   ]
  },
  {
   "cell_type": "markdown",
   "id": "03d7180d",
   "metadata": {},
   "source": [
    "## [Optional] Environment (環境) の作成\n",
    "\n",
    "arima-env および deploy-env の Environment (環境) を AML 上に作成していない場合には下記を実行。<br>\n",
    "(既に作成済の場合は不要)"
   ]
  },
  {
   "cell_type": "code",
   "execution_count": 3,
   "id": "dbaa47fb",
   "metadata": {},
   "outputs": [
    {
     "name": "stdout",
     "output_type": "stream",
     "text": [
      "Writing arima-env-config.yml\n"
     ]
    }
   ],
   "source": [
    "%%writefile arima-env-config.yml\n",
    "$schema: https://azuremlschemas.azureedge.net/latest/environment.schema.json\n",
    "name: arima-env\n",
    "image: mcr.microsoft.com/azureml/openmpi3.1.2-ubuntu18.04\n",
    "conda_file: scripts/arima-env.yml\n",
    "description: This is example"
   ]
  },
  {
   "cell_type": "code",
   "execution_count": 4,
   "id": "7dc1df19",
   "metadata": {},
   "outputs": [
    {
     "name": "stdout",
     "output_type": "stream",
     "text": [
      "\u001b[36mCommand group 'ml environment' is in preview and under development. Reference and support levels: https://aka.ms/CLI_refstatus\u001b[0m\n",
      "{\n",
      "  \"conda_file\": {\n",
      "    \"channels\": [\n",
      "      \"anaconda\",\n",
      "      \"conda-forge\"\n",
      "    ],\n",
      "    \"dependencies\": [\n",
      "      \"python=3.6.9\",\n",
      "      {\n",
      "        \"pip\": [\n",
      "          \"azureml-defaults\",\n",
      "          \"statsmodels==0.12.2\",\n",
      "          \"scipy\",\n",
      "          \"scikit-learn\",\n",
      "          \"joblib\",\n",
      "          \"numpy\",\n",
      "          \"pandas\",\n",
      "          \"matplotlib\",\n",
      "          \"seaborn\",\n",
      "          \"numpy\"\n",
      "        ]\n",
      "      }\n",
      "    ],\n",
      "    \"name\": \"azureml_669dcef02b953becb05c12c0f43bc7d3\"\n",
      "  },\n",
      "  \"creation_context\": {\n",
      "    \"created_at\": \"2022-03-31T08:11:45.465250+00:00\",\n",
      "    \"created_by\": \"Tsuyoshi Matsuzaki\",\n",
      "    \"created_by_type\": \"User\",\n",
      "    \"last_modified_at\": \"2022-03-31T08:11:45.465250+00:00\",\n",
      "    \"last_modified_by\": \"Tsuyoshi Matsuzaki\",\n",
      "    \"last_modified_by_type\": \"User\"\n",
      "  },\n",
      "  \"description\": \"This is example\",\n",
      "  \"id\": \"azureml:/subscriptions/b3ae1c15-4fef-4362-8c3a-5d804cdeb18d/resourceGroups/TEST20220331-AML/providers/Microsoft.MachineLearningServices/workspaces/ws01/environments/arima-env/versions/2022-03-31-08-11-45-0248328\",\n",
      "  \"image\": \"mcr.microsoft.com/azureml/openmpi3.1.2-ubuntu18.04\",\n",
      "  \"name\": \"arima-env\",\n",
      "  \"os_type\": \"linux\",\n",
      "  \"resourceGroup\": \"TEST20220331-AML\",\n",
      "  \"tags\": {},\n",
      "  \"version\": \"2022-03-31-08-11-45-0248328\"\n",
      "}\n",
      "\u001b[0m"
     ]
    }
   ],
   "source": [
    "!az ml environment create --file arima-env-config.yml \\\n",
    "  --resource-group $my_resource_group \\\n",
    "  --workspace-name $my_workspace"
   ]
  },
  {
   "cell_type": "code",
   "execution_count": 2,
   "id": "ba467b60",
   "metadata": {},
   "outputs": [
    {
     "name": "stdout",
     "output_type": "stream",
     "text": [
      "Writing deploy-env-config.yml\n"
     ]
    }
   ],
   "source": [
    "%%writefile deploy-env-config.yml\n",
    "$schema: https://azuremlschemas.azureedge.net/latest/environment.schema.json\n",
    "name: deploy-env\n",
    "image: mcr.microsoft.com/azureml/openmpi3.1.2-ubuntu18.04\n",
    "conda_file: scripts/deploy-env.yml\n",
    "description: This is example"
   ]
  },
  {
   "cell_type": "code",
   "execution_count": 3,
   "id": "a23af55c",
   "metadata": {},
   "outputs": [
    {
     "name": "stdout",
     "output_type": "stream",
     "text": [
      "\u001b[36mCommand group 'ml environment' is in preview and under development. Reference and support levels: https://aka.ms/CLI_refstatus\u001b[0m\n",
      "{\n",
      "  \"conda_file\": {\n",
      "    \"channels\": [\n",
      "      \"anaconda\",\n",
      "      \"conda-forge\"\n",
      "    ],\n",
      "    \"dependencies\": [\n",
      "      \"python=3.6.9\",\n",
      "      {\n",
      "        \"pip\": [\n",
      "          \"azureml-defaults\"\n",
      "        ]\n",
      "      }\n",
      "    ],\n",
      "    \"name\": \"arima-env\"\n",
      "  },\n",
      "  \"creation_context\": {\n",
      "    \"created_at\": \"2022-04-15T09:06:43.672780+00:00\",\n",
      "    \"created_by\": \"Tsuyoshi Matsuzaki\",\n",
      "    \"created_by_type\": \"User\",\n",
      "    \"last_modified_at\": \"2022-04-15T09:06:43.672780+00:00\",\n",
      "    \"last_modified_by\": \"Tsuyoshi Matsuzaki\",\n",
      "    \"last_modified_by_type\": \"User\"\n",
      "  },\n",
      "  \"description\": \"This is example\",\n",
      "  \"id\": \"azureml:/subscriptions/b3ae1c15-4fef-4362-8c3a-5d804cdeb18d/resourceGroups/AML-rg/providers/Microsoft.MachineLearningServices/workspaces/ws01/environments/deploy-env/versions/1\",\n",
      "  \"image\": \"mcr.microsoft.com/azureml/openmpi3.1.2-ubuntu18.04\",\n",
      "  \"name\": \"deploy-env\",\n",
      "  \"os_type\": \"linux\",\n",
      "  \"resourceGroup\": \"AML-rg\",\n",
      "  \"tags\": {},\n",
      "  \"version\": \"1\"\n",
      "}\n",
      "\u001b[0m"
     ]
    }
   ],
   "source": [
    "!az ml environment create --file deploy-env-config.yml \\\n",
    "  --resource-group $my_resource_group \\\n",
    "  --workspace-name $my_workspace"
   ]
  },
  {
   "cell_type": "markdown",
   "id": "53d04e02",
   "metadata": {},
   "source": [
    "## パイプラインの構成"
   ]
  },
  {
   "cell_type": "code",
   "execution_count": 5,
   "id": "191a14dc",
   "metadata": {},
   "outputs": [
    {
     "name": "stdout",
     "output_type": "stream",
     "text": [
      "Overwriting pipeline_job.yml\n"
     ]
    }
   ],
   "source": [
    "%%writefile pipeline_job.yml\n",
    "$schema: https://azuremlschemas.azureedge.net/latest/pipelineJob.schema.json\n",
    "type: pipeline\n",
    "display_name: pipeline-cli\n",
    "experiment_name: pipeline-cli\n",
    "compute: azureml:demo-cpucluster1\n",
    "jobs:\n",
    "  train:\n",
    "    name: train\n",
    "    display_name: train\n",
    "    command: >-\n",
    "      python train.py\n",
    "      --data_file ${{inputs.transaction_ts2013}}\n",
    "      --model_folder ${{outputs.model_folder}}\n",
    "    code: scripts\n",
    "    inputs:\n",
    "      transaction_ts2013:\n",
    "        type: uri_file\n",
    "        path: azureml:transaction_ts2013:1\n",
    "    outputs:\n",
    "      model_folder:\n",
    "    environment: azureml:arima-env:1\n",
    "  deploymodel:\n",
    "    name: deploymodel\n",
    "    display_name: deploymodel\n",
    "    command: >-\n",
    "      python DeployModel.py\n",
    "      --model_folder ${{inputs.model_folder}}\n",
    "    code: scripts\n",
    "    inputs:\n",
    "      model_folder: ${{parent.jobs.train.outputs.model_folder}}\n",
    "    environment: azureml:deploy-env:1"
   ]
  },
  {
   "cell_type": "markdown",
   "id": "a07dc05c",
   "metadata": {},
   "source": [
    "## パイプライン実行"
   ]
  },
  {
   "cell_type": "code",
   "execution_count": 7,
   "id": "ac58385a",
   "metadata": {},
   "outputs": [
    {
     "name": "stdout",
     "output_type": "stream",
     "text": [
      "\u001b[36mCommand group 'ml job' is in preview and under development. Reference and support levels: https://aka.ms/CLI_refstatus\u001b[0m\n",
      "'name', 'display_name', and 'experiment_name' cannot be configured for a child job within a pipeline job. These settings will be ignored.\n",
      "'name', 'display_name', and 'experiment_name' cannot be configured for a child job within a pipeline job. These settings will be ignored.\n",
      "\u001b[32mUploading scripts (0.01 MBs): 100%|█████| 6308/6308 [00:00<00:00, 142870.02it/s]\u001b[0m\n",
      "\u001b[39m\n",
      "\n",
      "{\n",
      "  \"compute\": \"azureml:demo-cpucluster1\",\n",
      "  \"creation_context\": {\n",
      "    \"created_at\": \"2022-04-15T10:38:58.789876+00:00\",\n",
      "    \"created_by\": \"Tsuyoshi Matsuzaki\",\n",
      "    \"created_by_type\": \"User\"\n",
      "  },\n",
      "  \"display_name\": \"keen_basin_j13df547np\",\n",
      "  \"experiment_name\": \"pipeline-cli\",\n",
      "  \"id\": \"azureml:/subscriptions/b3ae1c15-4fef-4362-8c3a-5d804cdeb18d/resourceGroups/AML-rg/providers/Microsoft.MachineLearningServices/workspaces/ws01/jobs/keen_basin_j13df547np\",\n",
      "  \"inputs\": {},\n",
      "  \"jobs\": {\n",
      "    \"deploymodel\": {\n",
      "      \"$schema\": \"{}\",\n",
      "      \"command\": \"\",\n",
      "      \"component\": \"azureml:65a2e3e9-0163-508b-9bf4-c2e1c203e3b6:1\",\n",
      "      \"environment_variables\": {},\n",
      "      \"inputs\": {\n",
      "        \"model_folder\": \"${{parent.jobs.train.outputs.model_folder}}\"\n",
      "      },\n",
      "      \"outputs\": {},\n",
      "      \"type\": \"command\"\n",
      "    },\n",
      "    \"train\": {\n",
      "      \"$schema\": \"{}\",\n",
      "      \"command\": \"\",\n",
      "      \"component\": \"azureml:aa4b4c51-dc52-e24f-a67b-3f6248eabc41:1\",\n",
      "      \"environment_variables\": {},\n",
      "      \"inputs\": {\n",
      "        \"transaction_ts2013\": {\n",
      "          \"mode\": \"ro_mount\",\n",
      "          \"path\": \"azureml:/subscriptions/b3ae1c15-4fef-4362-8c3a-5d804cdeb18d/resourceGroups/AML-rg/providers/Microsoft.MachineLearningServices/workspaces/ws01/datasets/transaction_ts2013/versions/1\",\n",
      "          \"type\": \"uri_file\"\n",
      "        }\n",
      "      },\n",
      "      \"outputs\": {},\n",
      "      \"type\": \"command\"\n",
      "    }\n",
      "  },\n",
      "  \"name\": \"keen_basin_j13df547np\",\n",
      "  \"outputs\": {},\n",
      "  \"properties\": {\n",
      "    \"azureml.continue_on_step_failure\": \"False\",\n",
      "    \"azureml.git.dirty\": \"True\",\n",
      "    \"azureml.parameters\": \"{}\",\n",
      "    \"azureml.pipelineComponent\": \"pipelinerun\",\n",
      "    \"azureml.runsource\": \"azureml.PipelineRun\",\n",
      "    \"mlflow.source.git.branch\": \"master\",\n",
      "    \"mlflow.source.git.commit\": \"c1b27d3f4f4b2df4f05e975b7e4367fbc08fd4f0\",\n",
      "    \"mlflow.source.git.repoURL\": \"https://github.com/tsmatsuz/oh4ml-lite-cli2\",\n",
      "    \"runSource\": \"CLIv2\",\n",
      "    \"runType\": \"HTTP\"\n",
      "  },\n",
      "  \"resourceGroup\": \"AML-rg\",\n",
      "  \"services\": {\n",
      "    \"Studio\": {\n",
      "      \"endpoint\": \"https://ml.azure.com/runs/keen_basin_j13df547np?wsid=/subscriptions/b3ae1c15-4fef-4362-8c3a-5d804cdeb18d/resourcegroups/AML-rg/workspaces/ws01&tid=72f988bf-86f1-41af-91ab-2d7cd011db47\",\n",
      "      \"job_service_type\": \"Studio\"\n",
      "    },\n",
      "    \"Tracking\": {\n",
      "      \"endpoint\": \"azureml://eastus.api.azureml.ms/mlflow/v1.0/subscriptions/b3ae1c15-4fef-4362-8c3a-5d804cdeb18d/resourceGroups/AML-rg/providers/Microsoft.MachineLearningServices/workspaces/ws01?\",\n",
      "      \"job_service_type\": \"Tracking\"\n",
      "    }\n",
      "  },\n",
      "  \"settings\": {},\n",
      "  \"status\": \"Preparing\",\n",
      "  \"tags\": {},\n",
      "  \"type\": \"pipeline\"\n",
      "}\n",
      "\u001b[0m"
     ]
    }
   ],
   "source": [
    "!az ml job create --file pipeline_job.yml \\\n",
    "  --resource-group $my_resource_group \\\n",
    "  --workspace-name $my_workspace"
   ]
  },
  {
   "cell_type": "code",
   "execution_count": null,
   "id": "fc79a98a",
   "metadata": {},
   "outputs": [],
   "source": []
  }
 ],
 "metadata": {
  "kernelspec": {
   "display_name": "Python 3",
   "language": "python",
   "name": "python3"
  },
  "language_info": {
   "codemirror_mode": {
    "name": "ipython",
    "version": 3
   },
   "file_extension": ".py",
   "mimetype": "text/x-python",
   "name": "python",
   "nbconvert_exporter": "python",
   "pygments_lexer": "ipython3",
   "version": "3.6.9"
  }
 },
 "nbformat": 4,
 "nbformat_minor": 5
}
