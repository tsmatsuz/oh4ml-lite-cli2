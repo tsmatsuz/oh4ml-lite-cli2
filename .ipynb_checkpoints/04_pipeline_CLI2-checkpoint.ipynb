{
 "cells": [
  {
   "cell_type": "markdown",
   "id": "20d876d3",
   "metadata": {},
   "source": [
    "# AML CLI v2 と YAML による ML Pipeline 実行\n",
    "\n",
    "[00_LoadData.ipynb](https://github.com/notanaha/oh4ml-lite/blob/main/00_LoadData.ipynb) を実行して、あらかじめデータセットの登録をおこなってください。\n",
    "\n",
    "> Note : データセットのアップロード・登録を CLI v2 と YAML で記述できます。"
   ]
  },
  {
   "cell_type": "markdown",
   "id": "4b0b681a",
   "metadata": {},
   "source": [
    "## Azure へのログイン"
   ]
  },
  {
   "cell_type": "code",
   "execution_count": null,
   "id": "b45619ba",
   "metadata": {},
   "outputs": [],
   "source": [
    "!az login"
   ]
  },
  {
   "cell_type": "code",
   "execution_count": 3,
   "id": "690abdd1",
   "metadata": {},
   "outputs": [],
   "source": [
    "!az account set -s {AZURE_SUBSCRIPTION_ID}"
   ]
  },
  {
   "cell_type": "markdown",
   "id": "9ff0a5a1",
   "metadata": {},
   "source": [
    "## AML ワークスペースの環境設定"
   ]
  },
  {
   "cell_type": "code",
   "execution_count": 2,
   "id": "c27e7f2c",
   "metadata": {},
   "outputs": [],
   "source": [
    "my_resource_group = \"{AML-RESOURCE-GROUP-NAME}\"\n",
    "my_workspace = \"{AML-WORSPACE-NAME}\""
   ]
  },
  {
   "cell_type": "markdown",
   "id": "5f434816",
   "metadata": {},
   "source": [
    "## [Optional] AML コンピュート (クラスター) の作成\n",
    "\n",
    "demo-cpucluster1 の名前の AML compute cluster がない場合には、下記を実行<br>\n",
    "(既に存在する場合には実行不要)"
   ]
  },
  {
   "cell_type": "code",
   "execution_count": 5,
   "id": "0ef7d16a",
   "metadata": {},
   "outputs": [
    {
     "name": "stdout",
     "output_type": "stream",
     "text": [
      "\u001b[36mCommand group 'ml compute' is in preview and under development. Reference and support levels: https://aka.ms/CLI_refstatus\u001b[0m\n",
      "{\n",
      "  \"id\": \"/subscriptions/b3ae1c15-4fef-4362-8c3a-5d804cdeb18d/resourceGroups/TEST20220331-AML/providers/Microsoft.MachineLearningServices/workspaces/ws01/computes/demo-cpucluster1\",\n",
      "  \"idle_time_before_scale_down\": 120,\n",
      "  \"location\": \"eastus\",\n",
      "  \"max_instances\": 1,\n",
      "  \"min_instances\": 0,\n",
      "  \"name\": \"demo-cpucluster1\",\n",
      "  \"network_settings\": {},\n",
      "  \"provisioning_state\": \"Succeeded\",\n",
      "  \"resourceGroup\": \"TEST20220331-AML\",\n",
      "  \"size\": \"STANDARD_D2_V2\",\n",
      "  \"ssh_public_access_enabled\": true,\n",
      "  \"tier\": \"dedicated\",\n",
      "  \"type\": \"amlcompute\"\n",
      "}\n",
      "\u001b[0m"
     ]
    }
   ],
   "source": [
    "!az ml compute create --name demo-cpucluster1 \\\n",
    "  --resource-group $my_resource_group \\\n",
    "  --workspace-name $my_workspace \\\n",
    "  --type amlcompute \\\n",
    "  --min-instances 0 \\\n",
    "  --max-instances 1 \\\n",
    "  --size Standard_D2_v2"
   ]
  },
  {
   "cell_type": "markdown",
   "id": "03d7180d",
   "metadata": {},
   "source": [
    "## [Optional] Environment (環境) の作成\n",
    "\n",
    "arima-env および deploy-env の Environment (環境) を AML 上に作成していない場合には下記を実行。<br>\n",
    "(既に作成済の場合は不要)"
   ]
  },
  {
   "cell_type": "code",
   "execution_count": 3,
   "id": "dbaa47fb",
   "metadata": {},
   "outputs": [
    {
     "name": "stdout",
     "output_type": "stream",
     "text": [
      "Writing arima-env-config.yml\n"
     ]
    }
   ],
   "source": [
    "%%writefile arima-env-config.yml\n",
    "$schema: https://azuremlschemas.azureedge.net/latest/environment.schema.json\n",
    "name: arima-env\n",
    "image: mcr.microsoft.com/azureml/openmpi3.1.2-ubuntu18.04\n",
    "conda_file: arima-env.yml\n",
    "description: This is example"
   ]
  },
  {
   "cell_type": "code",
   "execution_count": 4,
   "id": "7dc1df19",
   "metadata": {},
   "outputs": [
    {
     "name": "stdout",
     "output_type": "stream",
     "text": [
      "\u001b[36mCommand group 'ml environment' is in preview and under development. Reference and support levels: https://aka.ms/CLI_refstatus\u001b[0m\n",
      "{\n",
      "  \"conda_file\": {\n",
      "    \"channels\": [\n",
      "      \"anaconda\",\n",
      "      \"conda-forge\"\n",
      "    ],\n",
      "    \"dependencies\": [\n",
      "      \"python=3.6.9\",\n",
      "      {\n",
      "        \"pip\": [\n",
      "          \"azureml-defaults\",\n",
      "          \"statsmodels==0.12.2\",\n",
      "          \"scipy\",\n",
      "          \"scikit-learn\",\n",
      "          \"joblib\",\n",
      "          \"numpy\",\n",
      "          \"pandas\",\n",
      "          \"matplotlib\",\n",
      "          \"seaborn\",\n",
      "          \"numpy\"\n",
      "        ]\n",
      "      }\n",
      "    ],\n",
      "    \"name\": \"azureml_669dcef02b953becb05c12c0f43bc7d3\"\n",
      "  },\n",
      "  \"creation_context\": {\n",
      "    \"created_at\": \"2022-03-31T08:11:45.465250+00:00\",\n",
      "    \"created_by\": \"Tsuyoshi Matsuzaki\",\n",
      "    \"created_by_type\": \"User\",\n",
      "    \"last_modified_at\": \"2022-03-31T08:11:45.465250+00:00\",\n",
      "    \"last_modified_by\": \"Tsuyoshi Matsuzaki\",\n",
      "    \"last_modified_by_type\": \"User\"\n",
      "  },\n",
      "  \"description\": \"This is example\",\n",
      "  \"id\": \"azureml:/subscriptions/b3ae1c15-4fef-4362-8c3a-5d804cdeb18d/resourceGroups/TEST20220331-AML/providers/Microsoft.MachineLearningServices/workspaces/ws01/environments/arima-env/versions/2022-03-31-08-11-45-0248328\",\n",
      "  \"image\": \"mcr.microsoft.com/azureml/openmpi3.1.2-ubuntu18.04\",\n",
      "  \"name\": \"arima-env\",\n",
      "  \"os_type\": \"linux\",\n",
      "  \"resourceGroup\": \"TEST20220331-AML\",\n",
      "  \"tags\": {},\n",
      "  \"version\": \"2022-03-31-08-11-45-0248328\"\n",
      "}\n",
      "\u001b[0m"
     ]
    }
   ],
   "source": [
    "!az ml environment create --file arima-env-config.yml \\\n",
    "  --resource-group $my_resource_group \\\n",
    "  --workspace-name $my_workspace"
   ]
  },
  {
   "cell_type": "code",
   "execution_count": 5,
   "id": "ba467b60",
   "metadata": {},
   "outputs": [
    {
     "name": "stdout",
     "output_type": "stream",
     "text": [
      "Writing deploy-env-config.yml\n"
     ]
    }
   ],
   "source": [
    "%%writefile deploy-env-config.yml\n",
    "$schema: https://azuremlschemas.azureedge.net/latest/environment.schema.json\n",
    "name: deploy-env\n",
    "image: mcr.microsoft.com/azureml/openmpi3.1.2-ubuntu18.04\n",
    "conda_file: deploy-env.yml\n",
    "description: This is example"
   ]
  },
  {
   "cell_type": "code",
   "execution_count": 6,
   "id": "a23af55c",
   "metadata": {},
   "outputs": [
    {
     "name": "stdout",
     "output_type": "stream",
     "text": [
      "\u001b[36mCommand group 'ml environment' is in preview and under development. Reference and support levels: https://aka.ms/CLI_refstatus\u001b[0m\n",
      "{\n",
      "  \"conda_file\": {\n",
      "    \"channels\": [\n",
      "      \"anaconda\",\n",
      "      \"conda-forge\"\n",
      "    ],\n",
      "    \"dependencies\": [\n",
      "      \"python=3.6.9\",\n",
      "      {\n",
      "        \"pip\": [\n",
      "          \"azureml-defaults\"\n",
      "        ]\n",
      "      }\n",
      "    ],\n",
      "    \"name\": \"azureml_21b469d0e953b79d4613bc22b34b79b0\"\n",
      "  },\n",
      "  \"creation_context\": {\n",
      "    \"created_at\": \"2022-03-31T08:12:13.223378+00:00\",\n",
      "    \"created_by\": \"Tsuyoshi Matsuzaki\",\n",
      "    \"created_by_type\": \"User\",\n",
      "    \"last_modified_at\": \"2022-03-31T08:12:13.223378+00:00\",\n",
      "    \"last_modified_by\": \"Tsuyoshi Matsuzaki\",\n",
      "    \"last_modified_by_type\": \"User\"\n",
      "  },\n",
      "  \"description\": \"This is example\",\n",
      "  \"id\": \"azureml:/subscriptions/b3ae1c15-4fef-4362-8c3a-5d804cdeb18d/resourceGroups/TEST20220331-AML/providers/Microsoft.MachineLearningServices/workspaces/ws01/environments/deploy-env/versions/1\",\n",
      "  \"image\": \"mcr.microsoft.com/azureml/openmpi3.1.2-ubuntu18.04\",\n",
      "  \"name\": \"deploy-env\",\n",
      "  \"os_type\": \"linux\",\n",
      "  \"resourceGroup\": \"TEST20220331-AML\",\n",
      "  \"tags\": {},\n",
      "  \"version\": \"1\"\n",
      "}\n",
      "\u001b[0m"
     ]
    }
   ],
   "source": [
    "!az ml environment create --file deploy-env-config.yml \\\n",
    "  --resource-group $my_resource_group \\\n",
    "  --workspace-name $my_workspace"
   ]
  },
  {
   "cell_type": "markdown",
   "id": "53d04e02",
   "metadata": {},
   "source": [
    "## パイプラインの構成"
   ]
  },
  {
   "cell_type": "code",
   "execution_count": 19,
   "id": "191a14dc",
   "metadata": {},
   "outputs": [
    {
     "name": "stdout",
     "output_type": "stream",
     "text": [
      "Overwriting pipeline_job.yml\n"
     ]
    }
   ],
   "source": [
    "%%writefile pipeline_job.yml\n",
    "$schema: https://azuremlschemas.azureedge.net/latest/pipelineJob.schema.json\n",
    "type: pipeline\n",
    "display_name: pipeline-cli\n",
    "experiment_name: pipeline-cli\n",
    "compute: azureml:demo-cpucluster1\n",
    "jobs:\n",
    "  trainAndRegister:\n",
    "    command: >-\n",
    "      python trainAndRegisterModel.py\n",
    "      --step1_output ${{outputs.step1_output}}/model_info.txt\n",
    "    code:\n",
    "      local_path: scripts\n",
    "    outputs:\n",
    "      step1_output:\n",
    "    environment: azureml:arima-env:1\n",
    "  deploymodel:\n",
    "    command: >-\n",
    "      python DeployModel.py\n",
    "      --step1_output ${{inputs.step1_output}}\n",
    "    code:\n",
    "      local_path: scripts\n",
    "    inputs:\n",
    "      step1_output: ${{jobs.trainAndRegister.outputs.step1_output}}\n",
    "    environment: azureml:deploy-env:1"
   ]
  },
  {
   "cell_type": "markdown",
   "id": "a07dc05c",
   "metadata": {},
   "source": [
    "## パイプライン実行"
   ]
  },
  {
   "cell_type": "code",
   "execution_count": 22,
   "id": "ac58385a",
   "metadata": {},
   "outputs": [
    {
     "name": "stdout",
     "output_type": "stream",
     "text": [
      "\u001b[36mCommand group 'ml job' is in preview and under development. Reference and support levels: https://aka.ms/CLI_refstatus\u001b[0m\n",
      "'name', 'display_name', and 'experiment_name' cannot be configured for a child job within a pipeline job. These settings will be ignored.\n",
      "\u001b[32mUploading scripts (0.01 MBs): 100%|█████| 5775/5775 [00:00<00:00, 234433.19it/s]\u001b[0m\n",
      "\u001b[39m\n",
      "\n",
      "'name', 'display_name', and 'experiment_name' cannot be configured for a child job within a pipeline job. These settings will be ignored.\n",
      "{\n",
      "  \"compute\": \"azureml:demo-cpucluster1\",\n",
      "  \"creation_context\": {\n",
      "    \"created_at\": \"2022-03-31T09:06:13.589757+00:00\",\n",
      "    \"created_by\": \"Tsuyoshi Matsuzaki\",\n",
      "    \"created_by_type\": \"User\"\n",
      "  },\n",
      "  \"display_name\": \"pipeline-cli\",\n",
      "  \"experiment_name\": \"pipeline-cli\",\n",
      "  \"id\": \"azureml:/subscriptions/b3ae1c15-4fef-4362-8c3a-5d804cdeb18d/resourceGroups/TEST20220331-AML/providers/Microsoft.MachineLearningServices/workspaces/ws01/jobs/9850a141-3d43-418f-9b4f-14ae07679a8f\",\n",
      "  \"inputs\": {},\n",
      "  \"jobs\": {\n",
      "    \"deploymodel\": {\n",
      "      \"component\": \"azureml:fcc103de-93ed-42f8-a6fb-b4ca808fc606:1\",\n",
      "      \"inputs\": {\n",
      "        \"step1_output\": \"${{jobs.trainAndRegister.outputs.step1_output}}\"\n",
      "      },\n",
      "      \"outputs\": {},\n",
      "      \"overrides\": {},\n",
      "      \"type\": \"component\"\n",
      "    },\n",
      "    \"trainAndRegister\": {\n",
      "      \"component\": \"azureml:ec5fe86d-bd9a-4b4c-82eb-e478c2201546:1\",\n",
      "      \"inputs\": {},\n",
      "      \"outputs\": {\n",
      "        \"step1_output\": {\n",
      "          \"mode\": \"rw_mount\"\n",
      "        }\n",
      "      },\n",
      "      \"overrides\": {},\n",
      "      \"type\": \"component\"\n",
      "    }\n",
      "  },\n",
      "  \"name\": \"9850a141-3d43-418f-9b4f-14ae07679a8f\",\n",
      "  \"outputs\": {},\n",
      "  \"properties\": {\n",
      "    \"azureml.continue_on_step_failure\": \"False\",\n",
      "    \"azureml.parameters\": \"{}\",\n",
      "    \"azureml.pipelineComponent\": \"pipelinerun\",\n",
      "    \"azureml.runsource\": \"azureml.PipelineRun\",\n",
      "    \"runSource\": \"CLIv2\",\n",
      "    \"runType\": \"HTTP\"\n",
      "  },\n",
      "  \"resourceGroup\": \"TEST20220331-AML\",\n",
      "  \"services\": {\n",
      "    \"Studio\": {\n",
      "      \"endpoint\": \"https://ml.azure.com/runs/9850a141-3d43-418f-9b4f-14ae07679a8f?wsid=/subscriptions/b3ae1c15-4fef-4362-8c3a-5d804cdeb18d/resourcegroups/TEST20220331-AML/workspaces/ws01&tid=72f988bf-86f1-41af-91ab-2d7cd011db47\",\n",
      "      \"job_service_type\": \"Studio\"\n",
      "    },\n",
      "    \"Tracking\": {\n",
      "      \"endpoint\": \"azureml://eastus.api.azureml.ms/mlflow/v1.0/subscriptions/b3ae1c15-4fef-4362-8c3a-5d804cdeb18d/resourceGroups/TEST20220331-AML/providers/Microsoft.MachineLearningServices/workspaces/ws01?\",\n",
      "      \"job_service_type\": \"Tracking\"\n",
      "    }\n",
      "  },\n",
      "  \"settings\": {},\n",
      "  \"status\": \"Preparing\",\n",
      "  \"tags\": {},\n",
      "  \"type\": \"pipeline\"\n",
      "}\n",
      "\u001b[0m"
     ]
    }
   ],
   "source": [
    "!az ml job create --file pipeline_job.yml \\\n",
    "  --resource-group $my_resource_group \\\n",
    "  --workspace-name $my_workspace"
   ]
  },
  {
   "cell_type": "code",
   "execution_count": null,
   "id": "fc79a98a",
   "metadata": {},
   "outputs": [],
   "source": []
  }
 ],
 "metadata": {
  "kernelspec": {
   "display_name": "Python 3",
   "language": "python",
   "name": "python3"
  },
  "language_info": {
   "codemirror_mode": {
    "name": "ipython",
    "version": 3
   },
   "file_extension": ".py",
   "mimetype": "text/x-python",
   "name": "python",
   "nbconvert_exporter": "python",
   "pygments_lexer": "ipython3",
   "version": "3.6.9"
  }
 },
 "nbformat": 4,
 "nbformat_minor": 5
}
