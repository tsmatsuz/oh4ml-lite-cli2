{
 "cells": [
  {
   "cell_type": "markdown",
   "id": "20d876d3",
   "metadata": {},
   "source": [
    "# AML CLI v2 と YAML による学習\n",
    "\n",
    "[00_LoadData.ipynb](./00_LoadData.ipynb) を実行して、あらかじめデータセットの登録をおこなってください。\n",
    "\n",
    "> Note : データセットのアップロード・登録を CLI v2 と YAML で記述できます。"
   ]
  },
  {
   "cell_type": "markdown",
   "id": "4b0b681a",
   "metadata": {},
   "source": [
    "## Azure へのログイン"
   ]
  },
  {
   "cell_type": "code",
   "execution_count": null,
   "id": "b040f3a8",
   "metadata": {},
   "outputs": [],
   "source": [
    "!az login"
   ]
  },
  {
   "cell_type": "code",
   "execution_count": null,
   "id": "d8dda515",
   "metadata": {},
   "outputs": [],
   "source": [
    "!az account set -s {AZURE_SUBSCRIPTION_ID}"
   ]
  },
  {
   "cell_type": "markdown",
   "id": "9ff0a5a1",
   "metadata": {},
   "source": [
    "## AML ワークスペースの環境設定"
   ]
  },
  {
   "cell_type": "code",
   "execution_count": 1,
   "id": "7a49b7d1",
   "metadata": {},
   "outputs": [],
   "source": [
    "my_resource_group = \"{AML-RESOURCE-GROUP-NAME}\"\n",
    "my_workspace = \"{AML-WORSPACE-NAME}\""
   ]
  },
  {
   "cell_type": "markdown",
   "id": "5f434816",
   "metadata": {},
   "source": [
    "## [Optional] AML コンピュート (クラスター) の作成\n",
    "\n",
    "demo-cpucluster1 の名前の AML compute cluster がない場合には、下記を実行して、この名前の AML compute cluster を作成します。<br>\n",
    "(既に存在する場合には実行不要です。)"
   ]
  },
  {
   "cell_type": "code",
   "execution_count": 2,
   "id": "0ef7d16a",
   "metadata": {},
   "outputs": [
    {
     "name": "stdout",
     "output_type": "stream",
     "text": [
      "\u001b[36mCommand group 'ml compute' is in preview and under development. Reference and support levels: https://aka.ms/CLI_refstatus\u001b[0m\n",
      "{\n",
      "  \"id\": \"/subscriptions/b3ae1c15-4fef-4362-8c3a-5d804cdeb18d/resourceGroups/TEST2020426-ML/providers/Microsoft.MachineLearningServices/workspaces/ws01/computes/demo-cpucluster1\",\n",
      "  \"idle_time_before_scale_down\": 120,\n",
      "  \"location\": \"eastus\",\n",
      "  \"max_instances\": 1,\n",
      "  \"min_instances\": 0,\n",
      "  \"name\": \"demo-cpucluster1\",\n",
      "  \"network_settings\": {},\n",
      "  \"provisioning_state\": \"Succeeded\",\n",
      "  \"resourceGroup\": \"TEST2020426-ML\",\n",
      "  \"size\": \"STANDARD_D2_V2\",\n",
      "  \"ssh_public_access_enabled\": true,\n",
      "  \"tier\": \"dedicated\",\n",
      "  \"type\": \"amlcompute\"\n",
      "}\n",
      "\u001b[0m"
     ]
    }
   ],
   "source": [
    "!az ml compute create --name demo-cpucluster1 \\\n",
    "  --resource-group $my_resource_group \\\n",
    "  --workspace-name $my_workspace \\\n",
    "  --type amlcompute \\\n",
    "  --min-instances 0 \\\n",
    "  --max-instances 1 \\\n",
    "  --size Standard_D2_v2"
   ]
  },
  {
   "cell_type": "markdown",
   "id": "03d7180d",
   "metadata": {},
   "source": [
    "## [Optional] Environment (環境) の作成\n",
    "\n",
    "AML 上に arima-env の Environment (環境) を作成していない場合には下記を実行します。<br>\n",
    "(既に作成済の場合は不要です。)"
   ]
  },
  {
   "cell_type": "code",
   "execution_count": 3,
   "id": "dbaa47fb",
   "metadata": {},
   "outputs": [
    {
     "name": "stdout",
     "output_type": "stream",
     "text": [
      "Writing arima-env-config.yml\n"
     ]
    }
   ],
   "source": [
    "%%writefile arima-env-config.yml\n",
    "$schema: https://azuremlschemas.azureedge.net/latest/environment.schema.json\n",
    "name: arima-env\n",
    "image: mcr.microsoft.com/azureml/openmpi3.1.2-ubuntu18.04\n",
    "conda_file: scripts/arima-env.yml\n",
    "description: This is example"
   ]
  },
  {
   "cell_type": "code",
   "execution_count": 4,
   "id": "7dc1df19",
   "metadata": {},
   "outputs": [
    {
     "name": "stdout",
     "output_type": "stream",
     "text": [
      "\u001b[36mCommand group 'ml environment' is in preview and under development. Reference and support levels: https://aka.ms/CLI_refstatus\u001b[0m\n",
      "{\n",
      "  \"conda_file\": {\n",
      "    \"channels\": [\n",
      "      \"anaconda\",\n",
      "      \"conda-forge\"\n",
      "    ],\n",
      "    \"dependencies\": [\n",
      "      \"python=3.6.9\",\n",
      "      {\n",
      "        \"pip\": [\n",
      "          \"azureml-defaults\",\n",
      "          \"statsmodels==0.12.2\",\n",
      "          \"scipy\",\n",
      "          \"scikit-learn\",\n",
      "          \"joblib\",\n",
      "          \"numpy\",\n",
      "          \"pandas\",\n",
      "          \"matplotlib\",\n",
      "          \"seaborn\",\n",
      "          \"numpy\"\n",
      "        ]\n",
      "      }\n",
      "    ],\n",
      "    \"name\": \"arima-env\"\n",
      "  },\n",
      "  \"creation_context\": {\n",
      "    \"created_at\": \"2022-04-26T05:14:43.758937+00:00\",\n",
      "    \"created_by\": \"Tsuyoshi Matsuzaki\",\n",
      "    \"created_by_type\": \"User\",\n",
      "    \"last_modified_at\": \"2022-04-26T05:14:43.758937+00:00\",\n",
      "    \"last_modified_by\": \"Tsuyoshi Matsuzaki\",\n",
      "    \"last_modified_by_type\": \"User\"\n",
      "  },\n",
      "  \"description\": \"This is example\",\n",
      "  \"id\": \"azureml:/subscriptions/b3ae1c15-4fef-4362-8c3a-5d804cdeb18d/resourceGroups/TEST2020426-ML/providers/Microsoft.MachineLearningServices/workspaces/ws01/environments/arima-env/versions/1\",\n",
      "  \"image\": \"mcr.microsoft.com/azureml/openmpi3.1.2-ubuntu18.04\",\n",
      "  \"name\": \"arima-env\",\n",
      "  \"os_type\": \"linux\",\n",
      "  \"resourceGroup\": \"TEST2020426-ML\",\n",
      "  \"tags\": {},\n",
      "  \"version\": \"1\"\n",
      "}\n",
      "\u001b[0m"
     ]
    }
   ],
   "source": [
    "!az ml environment create --file arima-env-config.yml \\\n",
    "  --resource-group $my_resource_group \\\n",
    "  --workspace-name $my_workspace"
   ]
  },
  {
   "cell_type": "markdown",
   "id": "53d04e02",
   "metadata": {},
   "source": [
    "## 学習実行"
   ]
  },
  {
   "cell_type": "code",
   "execution_count": 8,
   "id": "191a14dc",
   "metadata": {},
   "outputs": [
    {
     "name": "stdout",
     "output_type": "stream",
     "text": [
      "Writing train-job-config.yml\n"
     ]
    }
   ],
   "source": [
    "%%writefile train-job-config.yml\n",
    "$schema: https://azuremlschemas.azureedge.net/latest/commandJob.schema.json\n",
    "code: scripts\n",
    "command: >-\n",
    "  python train.py\n",
    "  --data_file ${{inputs.transaction_ts2013}}\n",
    "inputs:\n",
    "  transaction_ts2013:\n",
    "    type: uri_file\n",
    "    path: azureml:transaction_ts2013:1\n",
    "environment: azureml:arima-env@latest\n",
    "compute: azureml:demo-cpucluster1\n",
    "display_name: arima-mlops-remote-cli\n",
    "experiment_name: arima-mlops-remote-cli\n",
    "description: Train demo"
   ]
  },
  {
   "cell_type": "code",
   "execution_count": 9,
   "id": "ac58385a",
   "metadata": {},
   "outputs": [
    {
     "name": "stdout",
     "output_type": "stream",
     "text": [
      "\u001b[36mCommand group 'ml job' is in preview and under development. Reference and support levels: https://aka.ms/CLI_refstatus\u001b[0m\n",
      "{\n",
      "  \"code\": \"/subscriptions/b3ae1c15-4fef-4362-8c3a-5d804cdeb18d/resourceGroups/TEST2020426-ML/providers/Microsoft.MachineLearningServices/workspaces/ws01/codes/831618de-8420-44d7-b2de-925151530c8c/versions/1\",\n",
      "  \"command\": \"python train.py --data_file ${{inputs.transaction_ts2013}}\",\n",
      "  \"compute\": \"azureml:demo-cpucluster1\",\n",
      "  \"creation_context\": {\n",
      "    \"created_at\": \"2022-04-26T05:18:11.543628+00:00\",\n",
      "    \"created_by\": \"Tsuyoshi Matsuzaki\",\n",
      "    \"created_by_type\": \"User\"\n",
      "  },\n",
      "  \"description\": \"Train demo\",\n",
      "  \"display_name\": \"arima-mlops-remote-cli\",\n",
      "  \"environment\": \"azureml:arima-env:1\",\n",
      "  \"environment_variables\": {},\n",
      "  \"experiment_name\": \"arima-mlops-remote-cli\",\n",
      "  \"id\": \"azureml:/subscriptions/b3ae1c15-4fef-4362-8c3a-5d804cdeb18d/resourceGroups/TEST2020426-ML/providers/Microsoft.MachineLearningServices/workspaces/ws01/jobs/mighty_brake_4g86h53rsg\",\n",
      "  \"inputs\": {\n",
      "    \"transaction_ts2013\": {\n",
      "      \"mode\": \"ro_mount\",\n",
      "      \"path\": \"azureml:transaction_ts2013:1\",\n",
      "      \"type\": \"uri_file\"\n",
      "    }\n",
      "  },\n",
      "  \"name\": \"mighty_brake_4g86h53rsg\",\n",
      "  \"outputs\": {\n",
      "    \"default\": {\n",
      "      \"mode\": \"rw_mount\",\n",
      "      \"path\": \"azureml://datastores/workspaceartifactstore/ExperimentRun/dcid.mighty_brake_4g86h53rsg\",\n",
      "      \"type\": \"uri_folder\"\n",
      "    }\n",
      "  },\n",
      "  \"parameters\": {},\n",
      "  \"properties\": {\n",
      "    \"ContentSnapshotId\": \"43491668-11da-45c8-bc33-47c2bee12386\",\n",
      "    \"_azureml.ComputeTargetType\": \"amlctrain\",\n",
      "    \"azureml.git.dirty\": \"True\",\n",
      "    \"mlflow.source.git.branch\": \"master\",\n",
      "    \"mlflow.source.git.commit\": \"144c412de7f828c2cd510f82139d5e6db872afc9\",\n",
      "    \"mlflow.source.git.repoURL\": \"https://github.com/tsmatsuz/oh4ml-lite-cli2\"\n",
      "  },\n",
      "  \"resourceGroup\": \"TEST2020426-ML\",\n",
      "  \"resources\": {\n",
      "    \"instance_count\": 1,\n",
      "    \"properties\": {}\n",
      "  },\n",
      "  \"services\": {\n",
      "    \"Studio\": {\n",
      "      \"endpoint\": \"https://ml.azure.com/runs/mighty_brake_4g86h53rsg?wsid=/subscriptions/b3ae1c15-4fef-4362-8c3a-5d804cdeb18d/resourcegroups/TEST2020426-ML/workspaces/ws01&tid=72f988bf-86f1-41af-91ab-2d7cd011db47\",\n",
      "      \"job_service_type\": \"Studio\"\n",
      "    },\n",
      "    \"Tracking\": {\n",
      "      \"endpoint\": \"azureml://eastus.api.azureml.ms/mlflow/v1.0/subscriptions/b3ae1c15-4fef-4362-8c3a-5d804cdeb18d/resourceGroups/TEST2020426-ML/providers/Microsoft.MachineLearningServices/workspaces/ws01?\",\n",
      "      \"job_service_type\": \"Tracking\"\n",
      "    }\n",
      "  },\n",
      "  \"status\": \"Starting\",\n",
      "  \"tags\": {},\n",
      "  \"type\": \"command\"\n",
      "}\n",
      "\u001b[0m"
     ]
    }
   ],
   "source": [
    "!az ml job create --file train-job-config.yml \\\n",
    "  --resource-group $my_resource_group \\\n",
    "  --workspace-name $my_workspace"
   ]
  },
  {
   "cell_type": "markdown",
   "id": "862418b2",
   "metadata": {},
   "source": [
    "## Model のダウンロード"
   ]
  },
  {
   "cell_type": "markdown",
   "id": "6b034a41",
   "metadata": {},
   "source": [
    "下記コマンドで、モデルをローカルにダウンロードし、作成されたモデルの確認・評価などをおこなえます。<br>\n",
    "(```job_name``` には、上記で出力されている ```name``` を設定します。)"
   ]
  },
  {
   "cell_type": "code",
   "execution_count": 10,
   "id": "e15f01fa",
   "metadata": {},
   "outputs": [],
   "source": [
    "job_name = \"mighty_brake_4g86h53rsg\""
   ]
  },
  {
   "cell_type": "code",
   "execution_count": 11,
   "id": "3672de5b",
   "metadata": {},
   "outputs": [
    {
     "name": "stdout",
     "output_type": "stream",
     "text": [
      "\u001b[36mCommand group 'ml job' is in preview and under development. Reference and support levels: https://aka.ms/CLI_refstatus\u001b[0m\n",
      "Downloading artifact azureml://datastores/workspaceartifactstore/ExperimentRun/dcid.mighty_brake_4g86h53rsg to /home/tsmatsuz/oh4ml-lite-cli2/artifacts\n",
      "\u001b[0m"
     ]
    }
   ],
   "source": [
    "!az ml job download --name $job_name \\\n",
    "  --resource-group $my_resource_group \\\n",
    "  --workspace-name $my_workspace"
   ]
  },
  {
   "cell_type": "code",
   "execution_count": null,
   "id": "5a319116",
   "metadata": {},
   "outputs": [],
   "source": []
  }
 ],
 "metadata": {
  "kernelspec": {
   "display_name": "Python 3",
   "language": "python",
   "name": "python3"
  },
  "language_info": {
   "codemirror_mode": {
    "name": "ipython",
    "version": 3
   },
   "file_extension": ".py",
   "mimetype": "text/x-python",
   "name": "python",
   "nbconvert_exporter": "python",
   "pygments_lexer": "ipython3",
   "version": "3.6.9"
  }
 },
 "nbformat": 4,
 "nbformat_minor": 5
}
