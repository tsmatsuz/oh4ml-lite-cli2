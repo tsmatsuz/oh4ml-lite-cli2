{
 "cells": [
  {
   "cell_type": "markdown",
   "id": "20d876d3",
   "metadata": {},
   "source": [
    "# AML CLI v2 と YAML による学習\n",
    "\n",
    "[00_LoadData.ipynb](https://github.com/notanaha/oh4ml-lite/blob/main/00_LoadData.ipynb) を実行して、あらかじめデータセットの登録をおこなってください。\n",
    "\n",
    "> Note : データセットのアップロード・登録を CLI v2 と YAML で記述できます。"
   ]
  },
  {
   "cell_type": "markdown",
   "id": "4b0b681a",
   "metadata": {},
   "source": [
    "## Azure へのログイン"
   ]
  },
  {
   "cell_type": "code",
   "execution_count": null,
   "id": "b040f3a8",
   "metadata": {},
   "outputs": [],
   "source": [
    "!az login"
   ]
  },
  {
   "cell_type": "code",
   "execution_count": 2,
   "id": "690abdd1",
   "metadata": {},
   "outputs": [],
   "source": [
    "!az account set -s {AZURE_SUBSCRIPTION_ID}"
   ]
  },
  {
   "cell_type": "markdown",
   "id": "9ff0a5a1",
   "metadata": {},
   "source": [
    "## AML ワークスペースの環境設定"
   ]
  },
  {
   "cell_type": "code",
   "execution_count": 3,
   "id": "c27e7f2c",
   "metadata": {},
   "outputs": [],
   "source": [
    "my_resource_group = \"{AML-RESOURCE-GROUP-NAME}\"\n",
    "my_workspace = \"{AML-WORSPACE-NAME}\""
   ]
  },
  {
   "cell_type": "markdown",
   "id": "5f434816",
   "metadata": {},
   "source": [
    "## [Optional] AML コンピュート (クラスター) の作成\n",
    "\n",
    "demo-cpucluster1 の名前の AML compute cluster がない場合には、下記を実行<br>\n",
    "(既に存在する場合には実行不要)"
   ]
  },
  {
   "cell_type": "code",
   "execution_count": 5,
   "id": "0ef7d16a",
   "metadata": {},
   "outputs": [
    {
     "name": "stdout",
     "output_type": "stream",
     "text": [
      "\u001b[36mCommand group 'ml compute' is in preview and under development. Reference and support levels: https://aka.ms/CLI_refstatus\u001b[0m\n",
      "{\n",
      "  \"id\": \"/subscriptions/b3ae1c15-4fef-4362-8c3a-5d804cdeb18d/resourceGroups/TEST20220331-AML/providers/Microsoft.MachineLearningServices/workspaces/ws01/computes/demo-cpucluster1\",\n",
      "  \"idle_time_before_scale_down\": 120,\n",
      "  \"location\": \"eastus\",\n",
      "  \"max_instances\": 1,\n",
      "  \"min_instances\": 0,\n",
      "  \"name\": \"demo-cpucluster1\",\n",
      "  \"network_settings\": {},\n",
      "  \"provisioning_state\": \"Succeeded\",\n",
      "  \"resourceGroup\": \"TEST20220331-AML\",\n",
      "  \"size\": \"STANDARD_D2_V2\",\n",
      "  \"ssh_public_access_enabled\": true,\n",
      "  \"tier\": \"dedicated\",\n",
      "  \"type\": \"amlcompute\"\n",
      "}\n",
      "\u001b[0m"
     ]
    }
   ],
   "source": [
    "!az ml compute create --name demo-cpucluster1 \\\n",
    "  --resource-group $my_resource_group \\\n",
    "  --workspace-name $my_workspace \\\n",
    "  --type amlcompute \\\n",
    "  --min-instances 0 \\\n",
    "  --max-instances 1 \\\n",
    "  --size Standard_D2_v2"
   ]
  },
  {
   "cell_type": "markdown",
   "id": "03d7180d",
   "metadata": {},
   "source": [
    "## [Optional] Environment (環境) の作成\n",
    "\n",
    "arima-env の Environment (環境) を AML 上に作成していない場合には下記を実行。<br>\n",
    "(既に作成済の場合は不要)"
   ]
  },
  {
   "cell_type": "code",
   "execution_count": 6,
   "id": "dbaa47fb",
   "metadata": {},
   "outputs": [
    {
     "name": "stdout",
     "output_type": "stream",
     "text": [
      "Writing arima-env-config.yml\n"
     ]
    }
   ],
   "source": [
    "%%writefile arima-env-config.yml\n",
    "$schema: https://azuremlschemas.azureedge.net/latest/environment.schema.json\n",
    "name: arima-env\n",
    "image: mcr.microsoft.com/azureml/openmpi3.1.2-ubuntu18.04\n",
    "conda_file: arima-env.yml\n",
    "description: This is example"
   ]
  },
  {
   "cell_type": "code",
   "execution_count": 7,
   "id": "7dc1df19",
   "metadata": {},
   "outputs": [
    {
     "name": "stdout",
     "output_type": "stream",
     "text": [
      "\u001b[36mCommand group 'ml environment' is in preview and under development. Reference and support levels: https://aka.ms/CLI_refstatus\u001b[0m\n",
      "{\n",
      "  \"conda_file\": {\n",
      "    \"channels\": [\n",
      "      \"anaconda\",\n",
      "      \"conda-forge\"\n",
      "    ],\n",
      "    \"dependencies\": [\n",
      "      \"python=3.6.9\",\n",
      "      {\n",
      "        \"pip\": [\n",
      "          \"azureml-defaults\",\n",
      "          \"statsmodels==0.12.2\",\n",
      "          \"scipy\",\n",
      "          \"scikit-learn\",\n",
      "          \"joblib\",\n",
      "          \"numpy\",\n",
      "          \"pandas\",\n",
      "          \"matplotlib\",\n",
      "          \"seaborn\",\n",
      "          \"numpy\"\n",
      "        ]\n",
      "      }\n",
      "    ],\n",
      "    \"name\": \"azureml_669dcef02b953becb05c12c0f43bc7d3\"\n",
      "  },\n",
      "  \"creation_context\": {\n",
      "    \"created_at\": \"2022-03-31T06:52:49.470879+00:00\",\n",
      "    \"created_by\": \"Tsuyoshi Matsuzaki\",\n",
      "    \"created_by_type\": \"User\",\n",
      "    \"last_modified_at\": \"2022-03-31T06:52:49.470879+00:00\",\n",
      "    \"last_modified_by\": \"Tsuyoshi Matsuzaki\",\n",
      "    \"last_modified_by_type\": \"User\"\n",
      "  },\n",
      "  \"description\": \"This is example\",\n",
      "  \"id\": \"azureml:/subscriptions/b3ae1c15-4fef-4362-8c3a-5d804cdeb18d/resourceGroups/TEST20220331-AML/providers/Microsoft.MachineLearningServices/workspaces/ws01/environments/arima-env/versions/1\",\n",
      "  \"image\": \"mcr.microsoft.com/azureml/openmpi3.1.2-cuda10.2-cudnn8-ubuntu18.04\",\n",
      "  \"name\": \"arima-env\",\n",
      "  \"os_type\": \"linux\",\n",
      "  \"resourceGroup\": \"TEST20220331-AML\",\n",
      "  \"tags\": {},\n",
      "  \"version\": \"1\"\n",
      "}\n",
      "\u001b[0m"
     ]
    }
   ],
   "source": [
    "!az ml environment create --file arima-env-config.yml \\\n",
    "  --resource-group $my_resource_group \\\n",
    "  --workspace-name $my_workspace"
   ]
  },
  {
   "cell_type": "markdown",
   "id": "53d04e02",
   "metadata": {},
   "source": [
    "## 学習実行"
   ]
  },
  {
   "cell_type": "code",
   "execution_count": 10,
   "id": "191a14dc",
   "metadata": {},
   "outputs": [
    {
     "name": "stdout",
     "output_type": "stream",
     "text": [
      "Overwriting train-job-config.yml\n"
     ]
    }
   ],
   "source": [
    "%%writefile train-job-config.yml\n",
    "$schema: https://azuremlschemas.azureedge.net/latest/commandJob.schema.json\n",
    "code: \n",
    "  local_path: scripts\n",
    "command: >-\n",
    "  python trainAndRegisterModel.py\n",
    "environment: azureml:arima-env:1\n",
    "compute: azureml:demo-cpucluster1\n",
    "display_name: arima-mlops-remote-cli\n",
    "experiment_name: arima-mlops-remote-cli\n",
    "description: Train demo"
   ]
  },
  {
   "cell_type": "code",
   "execution_count": 12,
   "id": "ac58385a",
   "metadata": {},
   "outputs": [
    {
     "name": "stdout",
     "output_type": "stream",
     "text": [
      "\u001b[36mCommand group 'ml job' is in preview and under development. Reference and support levels: https://aka.ms/CLI_refstatus\u001b[0m\n",
      "{\n",
      "  \"code\": \"azureml:6227ec3a-5038-4a58-8ba1-a8c1d0a99d7a:1\",\n",
      "  \"command\": \"python trainAndRegisterModel.py\",\n",
      "  \"compute\": \"azureml:demo-cpucluster1\",\n",
      "  \"creation_context\": {\n",
      "    \"created_at\": \"2022-03-31T07:26:29.483158+00:00\",\n",
      "    \"created_by\": \"Tsuyoshi Matsuzaki\",\n",
      "    \"created_by_type\": \"User\"\n",
      "  },\n",
      "  \"description\": \"Train demo\",\n",
      "  \"display_name\": \"arima-mlops-remote-cli\",\n",
      "  \"environment\": \"azureml:arima-env:1\",\n",
      "  \"environment_variables\": {},\n",
      "  \"experiment_name\": \"arima-mlops-remote-cli\",\n",
      "  \"id\": \"azureml:/subscriptions/b3ae1c15-4fef-4362-8c3a-5d804cdeb18d/resourceGroups/TEST20220331-AML/providers/Microsoft.MachineLearningServices/workspaces/ws01/jobs/5ed91d8f-55e8-4382-a0a1-d4e7ad4078b0\",\n",
      "  \"inputs\": {},\n",
      "  \"name\": \"5ed91d8f-55e8-4382-a0a1-d4e7ad4078b0\",\n",
      "  \"outputs\": {\n",
      "    \"default\": {\n",
      "      \"folder\": \"azureml://datastores/workspaceartifactstore/ExperimentRun/dcid.5ed91d8f-55e8-4382-a0a1-d4e7ad4078b0\",\n",
      "      \"mode\": \"rw_mount\"\n",
      "    }\n",
      "  },\n",
      "  \"parameters\": {},\n",
      "  \"properties\": {\n",
      "    \"ContentSnapshotId\": \"501e80ff-5c0f-4404-b540-56f3d2f473e7\",\n",
      "    \"_azureml.ComputeTargetType\": \"amlctrain\"\n",
      "  },\n",
      "  \"resourceGroup\": \"TEST20220331-AML\",\n",
      "  \"resources\": {\n",
      "    \"instance_count\": 1,\n",
      "    \"properties\": {}\n",
      "  },\n",
      "  \"services\": {\n",
      "    \"Studio\": {\n",
      "      \"endpoint\": \"https://ml.azure.com/runs/5ed91d8f-55e8-4382-a0a1-d4e7ad4078b0?wsid=/subscriptions/b3ae1c15-4fef-4362-8c3a-5d804cdeb18d/resourcegroups/TEST20220331-AML/workspaces/ws01&tid=72f988bf-86f1-41af-91ab-2d7cd011db47\",\n",
      "      \"job_service_type\": \"Studio\"\n",
      "    },\n",
      "    \"Tracking\": {\n",
      "      \"endpoint\": \"azureml://eastus.api.azureml.ms/mlflow/v1.0/subscriptions/b3ae1c15-4fef-4362-8c3a-5d804cdeb18d/resourceGroups/TEST20220331-AML/providers/Microsoft.MachineLearningServices/workspaces/ws01?\",\n",
      "      \"job_service_type\": \"Tracking\"\n",
      "    }\n",
      "  },\n",
      "  \"status\": \"Starting\",\n",
      "  \"tags\": {},\n",
      "  \"type\": \"command\"\n",
      "}\n",
      "\u001b[0m"
     ]
    }
   ],
   "source": [
    "!az ml job create --file train-job-config.yml \\\n",
    "  --resource-group $my_resource_group \\\n",
    "  --workspace-name $my_workspace"
   ]
  },
  {
   "cell_type": "markdown",
   "id": "dc180003",
   "metadata": {},
   "source": [
    "## 補足説明\n",
    "\n",
    "トレーニングとモデルの登録をわけて、すべて CLI v2 + YAML で記述することもできます。<br>\n",
    "下記は、CLI v2 によるモデル登録のサンプルコマンドです。\n",
    "\n",
    "```\n",
    "!az ml model create --name test-model \\\n",
    "  --version 1 \\\n",
    "  --local-path ./generated_model \\\n",
    "  --resource-group $my_resource_group \\\n",
    "  --workspace-name $my_workspace\n",
    "```"
   ]
  },
  {
   "cell_type": "code",
   "execution_count": null,
   "id": "fc79a98a",
   "metadata": {},
   "outputs": [],
   "source": []
  }
 ],
 "metadata": {
  "kernelspec": {
   "display_name": "Python 3",
   "language": "python",
   "name": "python3"
  },
  "language_info": {
   "codemirror_mode": {
    "name": "ipython",
    "version": 3
   },
   "file_extension": ".py",
   "mimetype": "text/x-python",
   "name": "python",
   "nbconvert_exporter": "python",
   "pygments_lexer": "ipython3",
   "version": "3.6.9"
  }
 },
 "nbformat": 4,
 "nbformat_minor": 5
}
