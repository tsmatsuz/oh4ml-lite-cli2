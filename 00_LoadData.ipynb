{
 "cells": [
  {
   "cell_type": "markdown",
   "id": "66031329",
   "metadata": {},
   "source": [
    "## ローカルのデータ準備"
   ]
  },
  {
   "cell_type": "markdown",
   "id": "13b25b3c",
   "metadata": {},
   "source": [
    "### Download Data"
   ]
  },
  {
   "cell_type": "code",
   "execution_count": 1,
   "id": "e5ab3a8c",
   "metadata": {},
   "outputs": [],
   "source": [
    "import os\n",
    "import requests\n",
    "from zipfile import ZipFile\n",
    "\n",
    "os.makedirs('./data', exist_ok=True)\n",
    "\n",
    "url = 'https://github.com/asherif844/MLOps/raw/master/data/AdventureWorks-oltp-install-script.zip'\n",
    "zip_data = requests.get(url)\n",
    "\n",
    "with open('./data/adventureworks.zip', 'wb') as f:\n",
    "    f.write(zip_data.content)\n",
    "\n",
    "with ZipFile('./data/adventureworks.zip', 'r') as fzip:\n",
    "    fzip.extractall('./data/csv_data')"
   ]
  },
  {
   "cell_type": "markdown",
   "id": "f62ef879",
   "metadata": {},
   "source": [
    "### Transform Data"
   ]
  },
  {
   "cell_type": "code",
   "execution_count": 2,
   "id": "e76b821c",
   "metadata": {},
   "outputs": [],
   "source": [
    "import pandas as pd\n",
    "\n",
    "header = ['TransactionID', 'ProductID', 'ReferenceOrderID', 'ReferenceOrderLineID', 'TransactionDate', 'TransactionType', 'Quantity', 'ActualCost', 'ModifiedDate']\n",
    "\n",
    "trans_hist_df = pd.read_csv('./data/csv_data/TransactionHistory.csv', sep='\\t', names=header)\n",
    "\n",
    "trans_hist_df['PaidAmount'] = trans_hist_df['Quantity'] * trans_hist_df['ActualCost']\n",
    "trans_hist_df['TransactionDate'] = pd.to_datetime(trans_hist_df['TransactionDate'])\n",
    "df = trans_hist_df[['TransactionDate', 'PaidAmount']]\n",
    "df.set_index('TransactionDate',inplace=True)\n",
    "\n",
    "df = df.resample('D').mean().interpolate()\n",
    "df = df['2013-07':'2014-05']\n",
    "df1 = df['2013']\n",
    "df2 = df['2014']\n",
    "\n",
    "df.to_csv('./data/mlops_forecast_data.csv', index=True, header=True)\n",
    "df1.to_csv('./data/mlops_forecast_data2013.csv', index=True, header=True)\n",
    "df2.to_csv('./data/mlops_forecast_data2014.csv', index=True, header=True)"
   ]
  },
  {
   "cell_type": "markdown",
   "id": "f4251c48",
   "metadata": {},
   "source": [
    "## AML へのアップロード"
   ]
  },
  {
   "cell_type": "markdown",
   "id": "8eefccdc",
   "metadata": {},
   "source": [
    "### Azure へのログイン"
   ]
  },
  {
   "cell_type": "code",
   "execution_count": null,
   "id": "7ac6c095",
   "metadata": {},
   "outputs": [],
   "source": [
    "!az login"
   ]
  },
  {
   "cell_type": "code",
   "execution_count": null,
   "id": "7b4e07fb",
   "metadata": {},
   "outputs": [],
   "source": [
    "!az account set -s {AZURE_SUBSCRIPTION_ID}"
   ]
  },
  {
   "cell_type": "markdown",
   "id": "55c7afbb",
   "metadata": {},
   "source": [
    "### AML ワークスペースの環境設定"
   ]
  },
  {
   "cell_type": "code",
   "execution_count": 3,
   "id": "ab2cf4fd",
   "metadata": {},
   "outputs": [],
   "source": [
    "my_resource_group = \"{AML-RESOURCE-GROUP-NAME}\"\n",
    "my_workspace = \"{AML-WORSPACE-NAME}\""
   ]
  },
  {
   "cell_type": "markdown",
   "id": "dec89a7d",
   "metadata": {},
   "source": [
    "### transaction_ts のアップロード"
   ]
  },
  {
   "cell_type": "code",
   "execution_count": 4,
   "id": "bc9f2964",
   "metadata": {},
   "outputs": [
    {
     "name": "stdout",
     "output_type": "stream",
     "text": [
      "Writing data_transaction_ts.yml\n"
     ]
    }
   ],
   "source": [
    "%%writefile data_transaction_ts.yml\n",
    "$schema: https://azuremlschemas.azureedge.net/latest/data.schema.json\n",
    "name: transaction_ts\n",
    "description: time series dataset for mlops\n",
    "type: uri_file\n",
    "path: data/mlops_forecast_data.csv"
   ]
  },
  {
   "cell_type": "code",
   "execution_count": 5,
   "id": "f6af5e00",
   "metadata": {},
   "outputs": [
    {
     "name": "stdout",
     "output_type": "stream",
     "text": [
      "\u001b[36mCommand group 'ml data' is in preview and under development. Reference and support levels: https://aka.ms/CLI_refstatus\u001b[0m\n",
      "\u001b[32mUploading mlops_forecast_data.csv\u001b[32m (< 1 MB): 100%|█| 9.01k/9.01k [00:00<00:00, 75\u001b[0m\n",
      "\u001b[39m\n",
      "\n",
      "{\n",
      "  \"creation_context\": {\n",
      "    \"created_at\": \"2022-04-26T05:02:33.553359+00:00\",\n",
      "    \"created_by\": \"Tsuyoshi Matsuzaki\",\n",
      "    \"created_by_type\": \"User\",\n",
      "    \"last_modified_at\": \"2022-04-26T05:02:33.562347+00:00\"\n",
      "  },\n",
      "  \"description\": \"time series dataset for mlops\",\n",
      "  \"id\": \"/subscriptions/b3ae1c15-4fef-4362-8c3a-5d804cdeb18d/resourceGroups/TEST2020426-ML/providers/Microsoft.MachineLearningServices/workspaces/ws01/data/transaction_ts/versions/1\",\n",
      "  \"name\": \"transaction_ts\",\n",
      "  \"path\": \"azureml://subscriptions/b3ae1c15-4fef-4362-8c3a-5d804cdeb18d/resourcegroups/TEST2020426-ML/workspaces/ws01/datastores/workspaceblobstore/paths/LocalUpload/6280d99e622831eb8dfcc384fec22ce9/mlops_forecast_data.csv\",\n",
      "  \"resourceGroup\": \"TEST2020426-ML\",\n",
      "  \"tags\": {},\n",
      "  \"type\": \"uri_file\",\n",
      "  \"version\": \"1\"\n",
      "}\n",
      "\u001b[0m"
     ]
    }
   ],
   "source": [
    "!az ml data create --file data_transaction_ts.yml \\\n",
    "  --resource-group $my_resource_group \\\n",
    "  --workspace-name $my_workspace"
   ]
  },
  {
   "cell_type": "markdown",
   "id": "bb7b429b",
   "metadata": {},
   "source": [
    "### transaction_ts2013 のアップロード"
   ]
  },
  {
   "cell_type": "code",
   "execution_count": 6,
   "id": "30194421",
   "metadata": {},
   "outputs": [
    {
     "name": "stdout",
     "output_type": "stream",
     "text": [
      "Writing transaction_ts2013.yml\n"
     ]
    }
   ],
   "source": [
    "%%writefile transaction_ts2013.yml\n",
    "$schema: https://azuremlschemas.azureedge.net/latest/data.schema.json\n",
    "name: transaction_ts2013\n",
    "description: 2013 time series dataset for mlops\n",
    "type: uri_file\n",
    "path: data/mlops_forecast_data2013.csv"
   ]
  },
  {
   "cell_type": "code",
   "execution_count": 7,
   "id": "32bf1129",
   "metadata": {},
   "outputs": [
    {
     "name": "stdout",
     "output_type": "stream",
     "text": [
      "\u001b[36mCommand group 'ml data' is in preview and under development. Reference and support levels: https://aka.ms/CLI_refstatus\u001b[0m\n",
      "\u001b[32mUploading mlops_forecast_data2013.csv\u001b[32m (< 1 MB): 100%|█| 4.57k/4.57k [00:00<00:00\u001b[0m\n",
      "\u001b[39m\n",
      "\n",
      "{\n",
      "  \"creation_context\": {\n",
      "    \"created_at\": \"2022-04-26T05:03:01.699074+00:00\",\n",
      "    \"created_by\": \"Tsuyoshi Matsuzaki\",\n",
      "    \"created_by_type\": \"User\",\n",
      "    \"last_modified_at\": \"2022-04-26T05:03:01.708786+00:00\"\n",
      "  },\n",
      "  \"description\": \"2013 time series dataset for mlops\",\n",
      "  \"id\": \"/subscriptions/b3ae1c15-4fef-4362-8c3a-5d804cdeb18d/resourceGroups/TEST2020426-ML/providers/Microsoft.MachineLearningServices/workspaces/ws01/data/transaction_ts2013/versions/1\",\n",
      "  \"name\": \"transaction_ts2013\",\n",
      "  \"path\": \"azureml://subscriptions/b3ae1c15-4fef-4362-8c3a-5d804cdeb18d/resourcegroups/TEST2020426-ML/workspaces/ws01/datastores/workspaceblobstore/paths/LocalUpload/c6da384a6036134c6bdcef21291509f7/mlops_forecast_data2013.csv\",\n",
      "  \"resourceGroup\": \"TEST2020426-ML\",\n",
      "  \"tags\": {},\n",
      "  \"type\": \"uri_file\",\n",
      "  \"version\": \"1\"\n",
      "}\n",
      "\u001b[0m"
     ]
    }
   ],
   "source": [
    "!az ml data create --file transaction_ts2013.yml \\\n",
    "  --resource-group $my_resource_group \\\n",
    "  --workspace-name $my_workspace"
   ]
  },
  {
   "cell_type": "markdown",
   "id": "a8dc61b7",
   "metadata": {},
   "source": [
    "### transaction_ts2014 のアップロード"
   ]
  },
  {
   "cell_type": "code",
   "execution_count": 8,
   "id": "a70988b0",
   "metadata": {},
   "outputs": [
    {
     "name": "stdout",
     "output_type": "stream",
     "text": [
      "Writing transaction_ts2014.yml\n"
     ]
    }
   ],
   "source": [
    "%%writefile transaction_ts2014.yml\n",
    "$schema: https://azuremlschemas.azureedge.net/latest/data.schema.json\n",
    "name: transaction_ts2014\n",
    "description: 2014 time series dataset for mlops\n",
    "type: uri_file\n",
    "path: data/mlops_forecast_data2014.csv"
   ]
  },
  {
   "cell_type": "code",
   "execution_count": 9,
   "id": "426bba9c",
   "metadata": {},
   "outputs": [
    {
     "name": "stdout",
     "output_type": "stream",
     "text": [
      "\u001b[36mCommand group 'ml data' is in preview and under development. Reference and support levels: https://aka.ms/CLI_refstatus\u001b[0m\n",
      "\u001b[32mUploading mlops_forecast_data2014.csv\u001b[32m (< 1 MB): 100%|█| 4.47k/4.47k [00:00<00:00\u001b[0m\n",
      "\u001b[39m\n",
      "\n",
      "{\n",
      "  \"creation_context\": {\n",
      "    \"created_at\": \"2022-04-26T05:03:14.150629+00:00\",\n",
      "    \"created_by\": \"Tsuyoshi Matsuzaki\",\n",
      "    \"created_by_type\": \"User\",\n",
      "    \"last_modified_at\": \"2022-04-26T05:03:14.162923+00:00\"\n",
      "  },\n",
      "  \"description\": \"2014 time series dataset for mlops\",\n",
      "  \"id\": \"/subscriptions/b3ae1c15-4fef-4362-8c3a-5d804cdeb18d/resourceGroups/TEST2020426-ML/providers/Microsoft.MachineLearningServices/workspaces/ws01/data/transaction_ts2014/versions/1\",\n",
      "  \"name\": \"transaction_ts2014\",\n",
      "  \"path\": \"azureml://subscriptions/b3ae1c15-4fef-4362-8c3a-5d804cdeb18d/resourcegroups/TEST2020426-ML/workspaces/ws01/datastores/workspaceblobstore/paths/LocalUpload/a976d72fde03d487303fc1be33cfa266/mlops_forecast_data2014.csv\",\n",
      "  \"resourceGroup\": \"TEST2020426-ML\",\n",
      "  \"tags\": {},\n",
      "  \"type\": \"uri_file\",\n",
      "  \"version\": \"1\"\n",
      "}\n",
      "\u001b[0m"
     ]
    }
   ],
   "source": [
    "!az ml data create --file transaction_ts2014.yml \\\n",
    "  --resource-group $my_resource_group \\\n",
    "  --workspace-name $my_workspace"
   ]
  },
  {
   "cell_type": "code",
   "execution_count": null,
   "id": "c5763413",
   "metadata": {},
   "outputs": [],
   "source": []
  }
 ],
 "metadata": {
  "kernelspec": {
   "display_name": "Python 3",
   "language": "python",
   "name": "python3"
  },
  "language_info": {
   "codemirror_mode": {
    "name": "ipython",
    "version": 3
   },
   "file_extension": ".py",
   "mimetype": "text/x-python",
   "name": "python",
   "nbconvert_exporter": "python",
   "pygments_lexer": "ipython3",
   "version": "3.6.9"
  }
 },
 "nbformat": 4,
 "nbformat_minor": 5
}
