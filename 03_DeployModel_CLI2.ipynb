{
 "cells": [
  {
   "cell_type": "markdown",
   "id": "20d876d3",
   "metadata": {},
   "source": [
    "# AML CLI v2 と YAML によるモデルのデプロイ\n",
    "\n",
    "[00_LoadData.ipynb](./00_LoadData.ipynb) を実行して、あらかじめデータセットの登録をおこなってください。\n",
    "\n",
    "> Note : データセットのアップロード・登録を CLI v2 と YAML で記述できます。"
   ]
  },
  {
   "cell_type": "markdown",
   "id": "4b0b681a",
   "metadata": {},
   "source": [
    "## Azure へのログイン"
   ]
  },
  {
   "cell_type": "code",
   "execution_count": null,
   "id": "b040f3a8",
   "metadata": {},
   "outputs": [],
   "source": [
    "!az login"
   ]
  },
  {
   "cell_type": "code",
   "execution_count": null,
   "id": "37b82f49",
   "metadata": {},
   "outputs": [],
   "source": [
    "!az account set -s {AZURE_SUBSCRIPTION_ID}"
   ]
  },
  {
   "cell_type": "markdown",
   "id": "9ff0a5a1",
   "metadata": {},
   "source": [
    "## AML ワークスペースの環境設定"
   ]
  },
  {
   "cell_type": "code",
   "execution_count": 1,
   "id": "ddb6933c",
   "metadata": {},
   "outputs": [],
   "source": [
    "my_resource_group = \"{AML-RESOURCE-GROUP-NAME}\"\n",
    "my_workspace = \"{AML-WORSPACE-NAME}\""
   ]
  },
  {
   "cell_type": "markdown",
   "id": "4c3857e0",
   "metadata": {},
   "source": [
    "## Managed Endpoint の作成"
   ]
  },
  {
   "cell_type": "code",
   "execution_count": 2,
   "id": "d89e7704",
   "metadata": {},
   "outputs": [
    {
     "name": "stdout",
     "output_type": "stream",
     "text": [
      "Writing managed_endpoint_config.yml\n"
     ]
    }
   ],
   "source": [
    "%%writefile managed_endpoint_config.yml\n",
    "$schema: https://azuremlschemas.azureedge.net/latest/managedOnlineEndpoint.schema.json\n",
    "name: my-endpoint\n",
    "auth_mode: key"
   ]
  },
  {
   "cell_type": "code",
   "execution_count": 3,
   "id": "6a291194",
   "metadata": {},
   "outputs": [
    {
     "name": "stdout",
     "output_type": "stream",
     "text": [
      "\u001b[36mCommand group 'ml online-endpoint' is in preview and under development. Reference and support levels: https://aka.ms/CLI_refstatus\u001b[0m\n",
      "{\n",
      "  \"auth_mode\": \"key\",\n",
      "  \"id\": \"/subscriptions/b3ae1c15-4fef-4362-8c3a-5d804cdeb18d/resourceGroups/AML-rg/providers/Microsoft.MachineLearningServices/workspaces/ws01/onlineEndpoints/my-endpoint\",\n",
      "  \"identity\": {\n",
      "    \"principal_id\": \"b017f29d-fec6-4ff4-90fe-4e6fda44c66a\",\n",
      "    \"tenant_id\": \"72f988bf-86f1-41af-91ab-2d7cd011db47\",\n",
      "    \"type\": \"system_assigned\"\n",
      "  },\n",
      "  \"location\": \"eastus\",\n",
      "  \"name\": \"my-endpoint\",\n",
      "  \"properties\": {\n",
      "    \"AzureAsyncOperationUri\": \"https://management.azure.com/subscriptions/b3ae1c15-4fef-4362-8c3a-5d804cdeb18d/providers/Microsoft.MachineLearningServices/locations/eastus/mfeOperationsStatus/oe:cddd2b14-fb19-4ba4-bcab-61a9f6e4087a:005479de-bfb6-4e0b-a6dd-2710796957b7?api-version=2021-10-01\",\n",
      "    \"azureml.onlineendpointid\": \"/subscriptions/b3ae1c15-4fef-4362-8c3a-5d804cdeb18d/resourcegroups/aml-rg/providers/microsoft.machinelearningservices/workspaces/ws01/onlineendpoints/my-endpoint\"\n",
      "  },\n",
      "  \"provisioning_state\": \"Succeeded\",\n",
      "  \"resourceGroup\": \"AML-rg\",\n",
      "  \"scoring_uri\": \"https://my-endpoint.eastus.inference.ml.azure.com/score\",\n",
      "  \"swagger_uri\": \"https://my-endpoint.eastus.inference.ml.azure.com/swagger.json\",\n",
      "  \"tags\": {},\n",
      "  \"traffic\": {}\n",
      "}\n",
      "\u001b[0m"
     ]
    }
   ],
   "source": [
    "!az ml online-endpoint create --file managed_endpoint_config.yml \\\n",
    "  --resource-group $my_resource_group \\\n",
    "  --workspace-name $my_workspace"
   ]
  },
  {
   "cell_type": "markdown",
   "id": "c9b56112",
   "metadata": {},
   "source": [
    "## Deployment 作成とトラフィックの割り当て"
   ]
  },
  {
   "cell_type": "code",
   "execution_count": 7,
   "id": "1ed71dee",
   "metadata": {},
   "outputs": [
    {
     "name": "stdout",
     "output_type": "stream",
     "text": [
      "Writing deployment_config.yml\n"
     ]
    }
   ],
   "source": [
    "%%writefile deployment_config.yml\n",
    "$schema: https://azuremlschemas.azureedge.net/latest/managedOnlineDeployment.schema.json\n",
    "name: deployment-v1\n",
    "endpoint_name: my-endpoint\n",
    "model: azureml:arima_model:1\n",
    "code_configuration:\n",
    "  code: scripts\n",
    "  scoring_script: score.py\n",
    "environment: \n",
    "  conda_file: scripts/arima-env.yml\n",
    "  image: mcr.microsoft.com/azureml/openmpi3.1.2-ubuntu18.04\n",
    "instance_type: Standard_DS2_v2\n",
    "instance_count: 1"
   ]
  },
  {
   "cell_type": "code",
   "execution_count": 10,
   "id": "6e2107f7",
   "metadata": {},
   "outputs": [
    {
     "name": "stdout",
     "output_type": "stream",
     "text": [
      "\u001b[36mCommand group 'ml online-deployment' is in preview and under development. Reference and support levels: https://aka.ms/CLI_refstatus\u001b[0m\n",
      "Check: endpoint my-endpoint exists\n",
      "\u001b[32mUploading scripts (0.01 MBs): 100%|█████| 5500/5500 [00:00<00:00, 145012.11it/s]\u001b[0m\n",
      "\u001b[39m\n",
      "\n",
      "Creating/updating online deployment deployment-v1 ..............................................................................Done (6m 55s)\n",
      "{\n",
      "  \"app_insights_enabled\": false,\n",
      "  \"code_configuration\": {\n",
      "    \"code\": \"/subscriptions/b3ae1c15-4fef-4362-8c3a-5d804cdeb18d/resourceGroups/AML-rg/providers/Microsoft.MachineLearningServices/workspaces/ws01/codes/c280d1ba-c0e9-4456-9037-beed355eb165/versions/1\",\n",
      "    \"scoring_script\": \"score.py\"\n",
      "  },\n",
      "  \"endpoint_name\": \"my-endpoint\",\n",
      "  \"environment\": \"azureml:/subscriptions/b3ae1c15-4fef-4362-8c3a-5d804cdeb18d/resourceGroups/AML-rg/providers/Microsoft.MachineLearningServices/workspaces/ws01/environments/CliV2AnonymousEnvironment/versions/100ed126-eca3-4573-9fbd-1bcc1332b444\",\n",
      "  \"environment_variables\": {},\n",
      "  \"instance_count\": 1,\n",
      "  \"instance_type\": \"Standard_DS2_v2\",\n",
      "  \"model\": \"azureml:/subscriptions/b3ae1c15-4fef-4362-8c3a-5d804cdeb18d/resourceGroups/AML-rg/providers/Microsoft.MachineLearningServices/workspaces/ws01/models/arima_model/versions/1\",\n",
      "  \"name\": \"deployment-v1\",\n",
      "  \"properties\": {},\n",
      "  \"tags\": {},\n",
      "  \"type\": \"managed\"\n",
      "}\n",
      "\u001b[0m"
     ]
    }
   ],
   "source": [
    "!az ml online-deployment create --file deployment_config.yml \\\n",
    "  --resource-group $my_resource_group \\\n",
    "  --workspace-name $my_workspace \\\n",
    "  --all-traffic"
   ]
  },
  {
   "cell_type": "code",
   "execution_count": null,
   "id": "fce261fb",
   "metadata": {},
   "outputs": [],
   "source": []
  }
 ],
 "metadata": {
  "kernelspec": {
   "display_name": "Python 3",
   "language": "python",
   "name": "python3"
  },
  "language_info": {
   "codemirror_mode": {
    "name": "ipython",
    "version": 3
   },
   "file_extension": ".py",
   "mimetype": "text/x-python",
   "name": "python",
   "nbconvert_exporter": "python",
   "pygments_lexer": "ipython3",
   "version": "3.6.9"
  }
 },
 "nbformat": 4,
 "nbformat_minor": 5
}
