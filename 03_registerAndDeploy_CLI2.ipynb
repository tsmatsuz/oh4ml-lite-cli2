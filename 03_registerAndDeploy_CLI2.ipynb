{
 "cells": [
  {
   "cell_type": "markdown",
   "id": "20d876d3",
   "metadata": {},
   "source": [
    "# AML CLI v2 と YAML によるモデルのデプロイ\n",
    "\n",
    "[00_LoadData.ipynb](./00_LoadData.ipynb) を実行して、あらかじめデータセットの登録をおこなってください。\n",
    "\n",
    "> Note : データセットのアップロード・登録を CLI v2 と YAML で記述できます。"
   ]
  },
  {
   "cell_type": "markdown",
   "id": "4b0b681a",
   "metadata": {},
   "source": [
    "## Azure へのログイン"
   ]
  },
  {
   "cell_type": "code",
   "execution_count": null,
   "id": "b040f3a8",
   "metadata": {},
   "outputs": [],
   "source": [
    "!az login"
   ]
  },
  {
   "cell_type": "code",
   "execution_count": null,
   "id": "37b82f49",
   "metadata": {},
   "outputs": [],
   "source": [
    "!az account set -s {AZURE_SUBSCRIPTION_ID}"
   ]
  },
  {
   "cell_type": "markdown",
   "id": "9ff0a5a1",
   "metadata": {},
   "source": [
    "## AML ワークスペースの環境設定"
   ]
  },
  {
   "cell_type": "code",
   "execution_count": 1,
   "id": "2173c25d",
   "metadata": {},
   "outputs": [],
   "source": [
    "my_resource_group = \"{AML-RESOURCE-GROUP-NAME}\"\n",
    "my_workspace = \"{AML-WORSPACE-NAME}\""
   ]
  },
  {
   "cell_type": "markdown",
   "id": "1d2a8168",
   "metadata": {},
   "source": [
    "## Model 登録\n",
    "\n",
    "下記コマンドで、[02_TrainOnRemote_CLI2.ipynb](./02_TrainOnRemote_CLI2.ipynb) でダウンロードした Model を AML に登録します。"
   ]
  },
  {
   "cell_type": "code",
   "execution_count": 2,
   "id": "da010528",
   "metadata": {},
   "outputs": [
    {
     "name": "stdout",
     "output_type": "stream",
     "text": [
      "\u001b[36mCommand group 'ml model' is in preview and under development. Reference and support levels: https://aka.ms/CLI_refstatus\u001b[0m\n",
      "\u001b[32mUploading arima_model.pkl\u001b[32m (< 1 MB): 100%|██| 13.2k/13.2k [00:00<00:00, 1.06MB/s]\u001b[0m\n",
      "\u001b[39m\n",
      "\n",
      "{\n",
      "  \"creation_context\": {\n",
      "    \"created_at\": \"2022-04-26T05:29:42.744786+00:00\",\n",
      "    \"created_by\": \"Tsuyoshi Matsuzaki\",\n",
      "    \"created_by_type\": \"User\",\n",
      "    \"last_modified_at\": \"2022-04-26T05:29:42.744786+00:00\",\n",
      "    \"last_modified_by\": \"Tsuyoshi Matsuzaki\",\n",
      "    \"last_modified_by_type\": \"User\"\n",
      "  },\n",
      "  \"id\": \"azureml:/subscriptions/b3ae1c15-4fef-4362-8c3a-5d804cdeb18d/resourceGroups/TEST2020426-ML/providers/Microsoft.MachineLearningServices/workspaces/ws01/models/arima_model/versions/1\",\n",
      "  \"name\": \"arima_model\",\n",
      "  \"path\": \"azureml://subscriptions/b3ae1c15-4fef-4362-8c3a-5d804cdeb18d/resourceGroups/TEST2020426-ML/workspaces/ws01/datastores/workspaceblobstore/paths/LocalUpload/560e2b2e876016b60c2dd1068aa0b7dd/arima_model.pkl\",\n",
      "  \"properties\": {},\n",
      "  \"resourceGroup\": \"TEST2020426-ML\",\n",
      "  \"tags\": {},\n",
      "  \"type\": \"custom_model\",\n",
      "  \"version\": \"1\"\n",
      "}\n",
      "\u001b[0m"
     ]
    }
   ],
   "source": [
    "!az ml model create --name arima_model \\\n",
    "  --version 1 \\\n",
    "  --path ./artifacts/outputs/arima_model.pkl \\\n",
    "  --resource-group $my_resource_group \\\n",
    "  --workspace-name $my_workspace"
   ]
  },
  {
   "cell_type": "markdown",
   "id": "4c3857e0",
   "metadata": {},
   "source": [
    "## Managed Endpoint の作成"
   ]
  },
  {
   "cell_type": "code",
   "execution_count": 5,
   "id": "d89e7704",
   "metadata": {},
   "outputs": [
    {
     "name": "stdout",
     "output_type": "stream",
     "text": [
      "Writing managed_endpoint_config.yml\n"
     ]
    }
   ],
   "source": [
    "%%writefile managed_endpoint_config.yml\n",
    "$schema: https://azuremlschemas.azureedge.net/latest/managedOnlineEndpoint.schema.json\n",
    "name: my-endpoint-test\n",
    "auth_mode: key"
   ]
  },
  {
   "cell_type": "code",
   "execution_count": 6,
   "id": "6a291194",
   "metadata": {},
   "outputs": [
    {
     "name": "stdout",
     "output_type": "stream",
     "text": [
      "\u001b[36mCommand group 'ml online-endpoint' is in preview and under development. Reference and support levels: https://aka.ms/CLI_refstatus\u001b[0m\n",
      "{\n",
      "  \"auth_mode\": \"key\",\n",
      "  \"id\": \"/subscriptions/b3ae1c15-4fef-4362-8c3a-5d804cdeb18d/resourceGroups/TEST2020426-ML/providers/Microsoft.MachineLearningServices/workspaces/ws01/onlineEndpoints/my-endpoint-test\",\n",
      "  \"identity\": {\n",
      "    \"principal_id\": \"9c84fc38-cae5-4cf5-8559-adc95ab0ae5e\",\n",
      "    \"tenant_id\": \"72f988bf-86f1-41af-91ab-2d7cd011db47\",\n",
      "    \"type\": \"system_assigned\"\n",
      "  },\n",
      "  \"location\": \"eastus\",\n",
      "  \"name\": \"my-endpoint-test\",\n",
      "  \"properties\": {\n",
      "    \"AzureAsyncOperationUri\": \"https://management.azure.com/subscriptions/b3ae1c15-4fef-4362-8c3a-5d804cdeb18d/providers/Microsoft.MachineLearningServices/locations/eastus/mfeOperationsStatus/oe:584fe42d-825e-41e8-accd-dcdd7156ae4b:620cfff6-e610-425b-a917-f606b6c524bf?api-version=2021-10-01\",\n",
      "    \"azureml.onlineendpointid\": \"/subscriptions/b3ae1c15-4fef-4362-8c3a-5d804cdeb18d/resourcegroups/test2020426-ml/providers/microsoft.machinelearningservices/workspaces/ws01/onlineendpoints/my-endpoint-test\"\n",
      "  },\n",
      "  \"provisioning_state\": \"Succeeded\",\n",
      "  \"resourceGroup\": \"TEST2020426-ML\",\n",
      "  \"scoring_uri\": \"https://my-endpoint-test.eastus.inference.ml.azure.com/score\",\n",
      "  \"swagger_uri\": \"https://my-endpoint-test.eastus.inference.ml.azure.com/swagger.json\",\n",
      "  \"tags\": {},\n",
      "  \"traffic\": {}\n",
      "}\n",
      "\u001b[0m"
     ]
    }
   ],
   "source": [
    "!az ml online-endpoint create --file managed_endpoint_config.yml \\\n",
    "  --resource-group $my_resource_group \\\n",
    "  --workspace-name $my_workspace"
   ]
  },
  {
   "cell_type": "markdown",
   "id": "c9b56112",
   "metadata": {},
   "source": [
    "## Deployment 作成とトラフィックの割り当て"
   ]
  },
  {
   "cell_type": "code",
   "execution_count": 7,
   "id": "1ed71dee",
   "metadata": {},
   "outputs": [
    {
     "name": "stdout",
     "output_type": "stream",
     "text": [
      "Writing deployment_config.yml\n"
     ]
    }
   ],
   "source": [
    "%%writefile deployment_config.yml\n",
    "$schema: https://azuremlschemas.azureedge.net/latest/managedOnlineDeployment.schema.json\n",
    "name: deployment-v1\n",
    "endpoint_name: my-endpoint-test\n",
    "model: azureml:arima_model@latest\n",
    "code_configuration:\n",
    "  code: scripts\n",
    "  scoring_script: score.py\n",
    "environment: \n",
    "  conda_file: scripts/arima-env.yml\n",
    "  image: mcr.microsoft.com/azureml/openmpi3.1.2-ubuntu18.04\n",
    "instance_type: Standard_DS2_v2\n",
    "instance_count: 1"
   ]
  },
  {
   "cell_type": "code",
   "execution_count": 8,
   "id": "6e2107f7",
   "metadata": {},
   "outputs": [
    {
     "name": "stdout",
     "output_type": "stream",
     "text": [
      "\u001b[36mCommand group 'ml online-deployment' is in preview and under development. Reference and support levels: https://aka.ms/CLI_refstatus\u001b[0m\n",
      "Check: endpoint my-endpoint-test exists\n",
      "Creating/updating online deployment deployment-v1 ...............................................................Done (5m 44s)\n",
      "{\n",
      "  \"app_insights_enabled\": false,\n",
      "  \"code_configuration\": {\n",
      "    \"code\": \"/subscriptions/b3ae1c15-4fef-4362-8c3a-5d804cdeb18d/resourceGroups/TEST2020426-ML/providers/Microsoft.MachineLearningServices/workspaces/ws01/codes/831618de-8420-44d7-b2de-925151530c8c/versions/1\",\n",
      "    \"scoring_script\": \"score.py\"\n",
      "  },\n",
      "  \"endpoint_name\": \"my-endpoint-test\",\n",
      "  \"environment\": \"azureml:/subscriptions/b3ae1c15-4fef-4362-8c3a-5d804cdeb18d/resourceGroups/TEST2020426-ML/providers/Microsoft.MachineLearningServices/workspaces/ws01/environments/CliV2AnonymousEnvironment/versions/f046b9ff-b8c0-4aeb-a08a-ffe2cac4eb16\",\n",
      "  \"environment_variables\": {},\n",
      "  \"instance_count\": 1,\n",
      "  \"instance_type\": \"Standard_DS2_v2\",\n",
      "  \"model\": \"azureml:/subscriptions/b3ae1c15-4fef-4362-8c3a-5d804cdeb18d/resourceGroups/TEST2020426-ML/providers/Microsoft.MachineLearningServices/workspaces/ws01/models/arima_model/versions/1\",\n",
      "  \"name\": \"deployment-v1\",\n",
      "  \"properties\": {},\n",
      "  \"tags\": {},\n",
      "  \"type\": \"managed\"\n",
      "}\n",
      "\u001b[0m"
     ]
    }
   ],
   "source": [
    "!az ml online-deployment create --file deployment_config.yml \\\n",
    "  --resource-group $my_resource_group \\\n",
    "  --workspace-name $my_workspace \\\n",
    "  --all-traffic"
   ]
  },
  {
   "cell_type": "code",
   "execution_count": null,
   "id": "fce261fb",
   "metadata": {},
   "outputs": [],
   "source": []
  }
 ],
 "metadata": {
  "kernelspec": {
   "display_name": "Python 3",
   "language": "python",
   "name": "python3"
  },
  "language_info": {
   "codemirror_mode": {
    "name": "ipython",
    "version": 3
   },
   "file_extension": ".py",
   "mimetype": "text/x-python",
   "name": "python",
   "nbconvert_exporter": "python",
   "pygments_lexer": "ipython3",
   "version": "3.6.9"
  }
 },
 "nbformat": 4,
 "nbformat_minor": 5
}
